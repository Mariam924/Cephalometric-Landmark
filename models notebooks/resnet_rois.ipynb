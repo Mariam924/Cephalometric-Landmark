{
  "metadata": {
    "kernelspec": {
      "language": "python",
      "display_name": "Python 3",
      "name": "python3"
    },
    "language_info": {
      "name": "python",
      "version": "3.7.12",
      "mimetype": "text/x-python",
      "codemirror_mode": {
        "name": "ipython",
        "version": 3
      },
      "pygments_lexer": "ipython3",
      "nbconvert_exporter": "python",
      "file_extension": ".py"
    },
    "colab": {
      "provenance": []
    }
  },
  "nbformat_minor": 0,
  "nbformat": 4,
  "cells": [
    {
      "cell_type": "markdown",
      "source": [
        "# Table of Contents\n",
        "\n",
        "1. [Import Libraries](#1)<br>\n",
        "2. [Read Training ](#2)<br>\n",
        "    2.1 [Read Training ( 1 ROI FOR Each LandMark) ](#2.1)<br>\n",
        "    2.2 [Read Training ( 4 ROI FOR Each LandMark) ](#2.2)<br>\n",
        "3. [Read Test Data ](#3)<br>\n",
        "4. [Choose LandMark and create stacked lists ](#4)<br>\n",
        "5. [Split Trainig data to Train and Validation ](#5)<br>\n",
        "6. [ResNet Model ](#6)<br>\n",
        "    6.1 [Cteate the Model](#6.1)<br>\n",
        "    6.2 [Complie Model](#6.2)<br>\n",
        "    6.3 [Fit Model](#6.3)<br>\n",
        "    6.4 [Losses Graphs](#6.4)<br>\n",
        "7. [Make Predictions ](#7)<br>\n",
        "   7.1 [Radial Error Function ](#7.1)<br>\n",
        "   7.2 [Successful Detection Rate Function (SDR)](#7.2)<br>\n",
        "   7.3 [Radial Error)](#7.3)<br>\n",
        "   7.4 [BoxPlot](#7.4)<br>\n",
        "   \n",
        "\n"
      ],
      "metadata": {
        "id": "ewixgREr4q1N"
      }
    },
    {
      "cell_type": "markdown",
      "source": [
        "# 🟡 Import Libraries <a id = \"1\"><a>"
      ],
      "metadata": {
        "id": "e7oafJKD4q1P"
      }
    },
    {
      "cell_type": "code",
      "source": [
        "import seaborn as sns\n",
        "import cv2\n",
        "import tensorflow as tf\n",
        "import numpy as np\n",
        "import pandas as pd\n",
        "import matplotlib.pyplot as plt\n",
        "import time\n",
        "import PIL\n",
        "from PIL import Image , ImageDraw\n",
        "import random"
      ],
      "metadata": {
        "execution": {
          "iopub.status.busy": "2023-01-02T23:00:52.864233Z",
          "iopub.execute_input": "2023-01-02T23:00:52.864613Z",
          "iopub.status.idle": "2023-01-02T23:00:57.657016Z",
          "shell.execute_reply.started": "2023-01-02T23:00:52.864555Z",
          "shell.execute_reply": "2023-01-02T23:00:57.656035Z"
        },
        "trusted": true,
        "id": "UNeKozZE4q1Q"
      },
      "execution_count": null,
      "outputs": []
    },
    {
      "cell_type": "code",
      "source": [
        "from tensorflow.keras.layers import Dense,Flatten,Dropout,Input,Conv2D,MaxPooling2D,BatchNormalization,LeakyReLU\n",
        "from tensorflow.keras.models import Sequential\n",
        "from tensorflow.keras.optimizers import Adam ,SGD\n",
        "# from sklearn.metrics import mean_squared_error as MSE_SKL\n",
        "from sklearn.metrics import mean_absolute_error as MAE_SKL\n",
        "# from tensorflow.keras.metrics import mean_absolute_error as MAE_TF\n",
        "from tensorflow.keras.regularizers import L2\n",
        "from sklearn.model_selection import train_test_split"
      ],
      "metadata": {
        "execution": {
          "iopub.status.busy": "2023-01-02T19:39:05.360716Z",
          "iopub.execute_input": "2023-01-02T19:39:05.361363Z",
          "iopub.status.idle": "2023-01-02T19:39:05.761378Z",
          "shell.execute_reply.started": "2023-01-02T19:39:05.361325Z",
          "shell.execute_reply": "2023-01-02T19:39:05.760397Z"
        },
        "trusted": true,
        "id": "kqtbEknt4q1R"
      },
      "execution_count": null,
      "outputs": []
    },
    {
      "cell_type": "markdown",
      "source": [
        "# 🟡 Read Training Data  <a id = \"2\"><a>"
      ],
      "metadata": {
        "id": "Qe2v3UDp4q1R"
      }
    },
    {
      "cell_type": "markdown",
      "source": [
        "## Read Training Data ( 1 ROI FOR Each LandMark) <a id = \"2.1\" > <a>"
      ],
      "metadata": {
        "id": "SnwHyr_V4q1R"
      }
    },
    {
      "cell_type": "code",
      "source": [
        "# train_data_df = pd.read_csv('/kaggle/input/cephalometric-landmarks/train_senior.csv', delimiter=',')\n",
        "# test1_data_df = pd.read_csv('/kaggle/input/cephalometric-landmarks/test1_senior.csv', delimiter=',')\n",
        "# test2_data_df = pd.read_csv('/kaggle/input/cephalometric-landmarks/test1_senior.csv', delimiter=',')\n",
        "# Train_Val_df = pd.concat([train_data_df, test1_data_df,test2_data_df.iloc[:50]])\n",
        "\n",
        "# train_ROIs_all_img_19LM = []\n",
        "\n",
        "# train_ROI_x_coord_all_img_19LM = []\n",
        "# train_ROI_y_coord_all_img_19LM =[ ]\n",
        "\n",
        "\n",
        "# for i in range(0,38,2):\n",
        "\n",
        "#     train_ROI_x_coord = [] \n",
        "#     train_ROI_y_coord = []\n",
        "#     ROI = []\n",
        "    \n",
        "#     for row in Train_Val_df.values: #['001.jpg', 835, 996, ..., 1569, 664, 1340]\n",
        "#         image_info = list(row)\n",
        "#         coords = image_info[1:] # 38       \n",
        "#         offset_x =  random.randint(-10, 10)\n",
        "#         offset_y =  random.randint(-10, 10)\n",
        "        \n",
        "#         original_img = Image.open(\"../input/cephalometric-landmarks/cepha400/cepha400/\"+image_info[0])\n",
        "        \n",
        "#         croped_images = original_img.crop(( np.abs((coords[i]+offset_x ) - 128 ), np.abs((coords[i+1]+offset_y )- 128),\n",
        "#                                             np.abs((coords[i]+offset_x ) + 128 ), np.abs((coords[i+1]+offset_y ) + 128 ) )) # crop( left ,top , right , bottom )\n",
        "#         ROI.append(np.asarray(croped_images))\n",
        "        \n",
        "#         train_ROI_x_coord.append( np.abs(offset_x  - 128 ) )\n",
        "#         train_ROI_y_coord.append( np.abs(offset_y  - 128 ) )\n",
        "    \n",
        "#     train_ROIs_all_img_19LM.append(ROI)\n",
        "\n",
        "#     train_ROI_x_coord_all_img_19LM.append(train_ROI_x_coord)\n",
        "#     train_ROI_y_coord_all_img_19LM.append(train_ROI_y_coord)\n",
        "         \n",
        "\n",
        "# print(\"Shape train_ROIs_all_img_19LM: \",np.array(train_ROIs_all_img_19LM).shape)      \n",
        "# print(\"Shape train_ROI_x_coord_all_img_19LM: \",np.array(train_ROI_x_coord_all_img_19LM).shape)        \n",
        "# print(\"Shape train_ROI_y_coord_all_img_19LM: \",np.array(train_ROI_y_coord_all_img_19LM).shape)\n",
        "    "
      ],
      "metadata": {
        "execution": {
          "iopub.status.busy": "2023-01-02T19:39:05.762930Z",
          "iopub.execute_input": "2023-01-02T19:39:05.763487Z",
          "iopub.status.idle": "2023-01-02T19:39:05.770947Z",
          "shell.execute_reply.started": "2023-01-02T19:39:05.763448Z",
          "shell.execute_reply": "2023-01-02T19:39:05.768214Z"
        },
        "jupyter": {
          "source_hidden": true
        },
        "trusted": true,
        "id": "50_rr1oM4q1S"
      },
      "execution_count": null,
      "outputs": []
    },
    {
      "cell_type": "markdown",
      "source": [
        "## Read Training Data ( 4 ROI FOR Each LandMark) <a id = \"2.2\" > <a>"
      ],
      "metadata": {
        "id": "VSgJreHF4q1S"
      }
    },
    {
      "cell_type": "code",
      "source": [
        "start = time.time()\n",
        "\n",
        "train_data_df = pd.read_csv('/kaggle/input/cephalometric-landmarks/train_senior.csv', delimiter=',')\n",
        "test1_data_df = pd.read_csv('/kaggle/input/cephalometric-landmarks/test1_senior.csv', delimiter=',')\n",
        "test2_data_df = pd.read_csv('/kaggle/input/cephalometric-landmarks/test1_senior.csv', delimiter=',')\n",
        "Train_Val_df = pd.concat([train_data_df, test1_data_df,test2_data_df.iloc[:50]])\n",
        "\n",
        "train_ROIs_all_img_19LM = []\n",
        "\n",
        "train_ROI_x_coord_all_img_19LM = []\n",
        "train_ROI_y_coord_all_img_19LM = []\n",
        "\n",
        "\n",
        "for i in range(0,38,2):\n",
        "\n",
        "    train_ROI_x_coord = [] \n",
        "    train_ROI_y_coord = []\n",
        "    ROI = []\n",
        "    \n",
        "    for row in Train_Val_df.values: #['001.jpg', 835, 996, ..., 1569, 664, 1340]\n",
        "        image_info = list(row)\n",
        "        coords = image_info[1:] # 38  \n",
        "        original_img = Image.open(\"../input/cephalometric-landmarks/cepha400/cepha400/\"+image_info[0])\n",
        "        for k in range(4):\n",
        "            offset_x =  random.randint(-10, 10)\n",
        "            offset_y =  random.randint(-10, 10)\n",
        "\n",
        "            croped_images = original_img.crop(( np.abs((coords[i]+offset_x ) - 128 ), np.abs((coords[i+1]+offset_y )- 128),\n",
        "                                                np.abs((coords[i]+offset_x ) + 128 ), np.abs((coords[i+1]+offset_y ) + 128 ) )) # crop( left ,top , right , bottom )\n",
        "            ROI.append(np.asarray(croped_images))\n",
        "\n",
        "            train_ROI_x_coord.append( np.abs(offset_x  - 128 ) )\n",
        "            train_ROI_y_coord.append( np.abs(offset_y  - 128 ) )\n",
        "    \n",
        "    train_ROIs_all_img_19LM.append(ROI)\n",
        "\n",
        "    train_ROI_x_coord_all_img_19LM.append(train_ROI_x_coord)\n",
        "    train_ROI_y_coord_all_img_19LM.append(train_ROI_y_coord)\n",
        "end = time.time()\n",
        "\n",
        "print(\"Shape train_ROIs_all_img_19LM: \",np.array(train_ROIs_all_img_19LM).shape)      \n",
        "print(\"Shape train_ROI_x_coord_all_img_19LM: \",np.array(train_ROI_x_coord_all_img_19LM).shape)        \n",
        "print(\"Shape train_ROI_y_coord_all_img_19LM: \",np.array(train_ROI_y_coord_all_img_19LM).shape)\n",
        "print(\"Execution Time: {} Min\".format((end-start)//60))\n"
      ],
      "metadata": {
        "execution": {
          "iopub.status.busy": "2023-01-02T19:39:05.773116Z",
          "iopub.execute_input": "2023-01-02T19:39:05.773713Z",
          "iopub.status.idle": "2023-01-02T19:44:46.813558Z",
          "shell.execute_reply.started": "2023-01-02T19:39:05.773672Z",
          "shell.execute_reply": "2023-01-02T19:44:46.812446Z"
        },
        "trusted": true,
        "id": "qjj4OeDs4q1T",
        "outputId": "feb1c0d5-9294-4d69-b17c-07d0767befdd"
      },
      "execution_count": null,
      "outputs": [
        {
          "name": "stdout",
          "text": "Shape train_ROIs_all_img_19LM:  (19, 1400, 256, 256, 3)\nShape train_ROI_x_coord_all_img_19LM:  (19, 1400)\nShape train_ROI_y_coord_all_img_19LM:  (19, 1400)\nExecution Time: 5.0 Min\n",
          "output_type": "stream"
        }
      ]
    },
    {
      "cell_type": "markdown",
      "source": [
        "# 🟡 Read Test Data  <a id = \"3.1\"> <a>"
      ],
      "metadata": {
        "id": "rKb0agEZ4q1U"
      }
    },
    {
      "cell_type": "code",
      "source": [
        "train_data_df = pd.read_csv('/kaggle/input/cephalometric-landmarks/train_senior.csv', delimiter=',')\n",
        "train_data_df.set_index(\"image_path\" ,inplace=True,)\n",
        "training_img126_x_y_coords = list( train_data_df.loc[\"126.jpg\"])\n",
        "print(len(training_img126_x_y_coords))\n",
        "print(training_img126_x_y_coords)\n",
        "# print(\"x1:\" ,training_img126_x_y_coords[0])\n",
        "# print(\"y1:\" ,training_img126_x_y_coords[1])"
      ],
      "metadata": {
        "execution": {
          "iopub.status.busy": "2023-01-02T19:44:46.815203Z",
          "iopub.execute_input": "2023-01-02T19:44:46.815860Z",
          "iopub.status.idle": "2023-01-02T19:44:46.828498Z",
          "shell.execute_reply.started": "2023-01-02T19:44:46.815818Z",
          "shell.execute_reply": "2023-01-02T19:44:46.827468Z"
        },
        "trusted": true,
        "id": "5vOXJZbY4q1V",
        "outputId": "6f91f5d8-480b-4bbd-f68e-887238f50796"
      },
      "execution_count": null,
      "outputs": [
        {
          "name": "stdout",
          "text": "38\n[791, 1068, 1360, 1040, 1235, 1291, 634, 1220, 1402, 1589, 1452, 1938, 1467, 2038, 1416, 2098, 1452, 2080, 749, 1837, 1482, 1764, 1484, 1755, 1586, 1689, 1600, 1869, 1534, 1566, 1530, 2106, 945, 1482, 1417, 1520, 653, 1371]\n",
          "output_type": "stream"
        }
      ]
    },
    {
      "cell_type": "code",
      "source": [
        "test2_data_df = pd.read_csv('/kaggle/input/cephalometric-landmarks/test2_senior.csv', delimiter=',')\n",
        "test2_data_df.set_index(\"image_path\" ,drop = False , inplace=True)\n",
        "test2_data_df.drop(index=test2_data_df.index[:50],inplace=True)\n",
        "ROIs_all_img_19LM = []\n",
        "\n",
        "test_ROI_x_coord_all_img_19LM = []\n",
        "test_ROI_y_coord_all_img_19LM =[ ]\n",
        "\n",
        "\n",
        "for i in range(0,38,2):\n",
        "\n",
        "    test_ROI_x_coord = [] \n",
        "    test_ROI_y_coord = []\n",
        "    ROI = []\n",
        "    \n",
        "    for row in test2_data_df.values: #['001.jpg', 835, 996, ..., 1569, 664, 1340]\n",
        "        image_info = list(row)\n",
        "        coords = image_info[1:]\n",
        "        \n",
        "        original_img = Image.open(\"../input/cephalometric-landmarks/cepha400/cepha400/\"+image_info[0])\n",
        "        # crop( left ,top , right , bottom )\n",
        "        croped_images = original_img.crop( ( np.abs(training_img126_x_y_coords[i] - 128),  np.abs(training_img126_x_y_coords[i+1] - 128),\n",
        "                                           np.abs(training_img126_x_y_coords[i] + 128 ),  np.abs(training_img126_x_y_coords[i+1] + 128 ))) \n",
        "        ROI.append(np.asarray(croped_images))\n",
        "        \n",
        "        test_ROI_x_coord.append( np.abs(training_img126_x_y_coords[i]  - 128 - coords[i] )  )\n",
        "        test_ROI_y_coord.append( np.abs(training_img126_x_y_coords[i+1] - 128 - coords[i+1]) )\n",
        "    \n",
        "    ROIs_all_img_19LM.append(ROI)\n",
        "\n",
        "    test_ROI_x_coord_all_img_19LM.append(test_ROI_x_coord)\n",
        "    test_ROI_y_coord_all_img_19LM.append(test_ROI_y_coord)\n",
        "         \n",
        "\n",
        "print(\"Shape ROIs_all_img_19LM: \",np.array(ROIs_all_img_19LM).shape)      \n",
        "print(\"Shape test_ROI_x_coord_all_img: \",np.array(test_ROI_x_coord_all_img_19LM).shape)        \n",
        "print(\"Shape test_ROI_y_coord_all_img: \",np.array(test_ROI_y_coord_all_img_19LM).shape)\n",
        "    "
      ],
      "metadata": {
        "execution": {
          "iopub.status.busy": "2023-01-02T19:44:46.829909Z",
          "iopub.execute_input": "2023-01-02T19:44:46.830751Z",
          "iopub.status.idle": "2023-01-02T19:45:33.848188Z",
          "shell.execute_reply.started": "2023-01-02T19:44:46.830705Z",
          "shell.execute_reply": "2023-01-02T19:45:33.847049Z"
        },
        "trusted": true,
        "id": "XAV-p3Hf4q1V",
        "outputId": "41fda71c-4974-4d33-9d66-0d086ae4215b"
      },
      "execution_count": null,
      "outputs": [
        {
          "name": "stdout",
          "text": "Shape ROIs_all_img_19LM:  (19, 50, 256, 256, 3)\nShape test_ROI_x_coord_all_img:  (19, 50)\nShape test_ROI_y_coord_all_img:  (19, 50)\n",
          "output_type": "stream"
        }
      ]
    },
    {
      "cell_type": "markdown",
      "source": [
        "# 🟡  Choose LandMark and create stacked lists <a id=\"4\" > <a>"
      ],
      "metadata": {
        "id": "vGbsjSuM4q1W"
      }
    },
    {
      "cell_type": "code",
      "source": [
        "landmark_n = 19\n",
        "\n",
        "train_ROI_images_stacked= np.stack(train_ROIs_all_img_19LM[landmark_n-1], axis=0)\n",
        "train_ROI_coord_stacked = np.stack((train_ROI_x_coord_all_img_19LM[landmark_n-1],train_ROI_y_coord_all_img_19LM[landmark_n-1]),axis = 1)\n",
        "\n",
        "test_ROI_images_stacked= np.stack(ROIs_all_img_19LM[landmark_n-1], axis=0)\n",
        "test_ROI_coord_stacked = np.stack((test_ROI_x_coord_all_img_19LM[landmark_n-1],test_ROI_y_coord_all_img_19LM[landmark_n-1]),axis = 1)\n"
      ],
      "metadata": {
        "execution": {
          "iopub.status.busy": "2023-01-02T19:45:33.849568Z",
          "iopub.execute_input": "2023-01-02T19:45:33.850502Z",
          "iopub.status.idle": "2023-01-02T19:45:33.947684Z",
          "shell.execute_reply.started": "2023-01-02T19:45:33.850461Z",
          "shell.execute_reply": "2023-01-02T19:45:33.946589Z"
        },
        "trusted": true,
        "id": "aIEeyPWg4q1W"
      },
      "execution_count": null,
      "outputs": []
    },
    {
      "cell_type": "code",
      "source": [
        "print(\"Shape of train_ROI_images_stacked for LandMark {}: \".format(landmark_n),train_ROI_images_stacked.shape)\n",
        "print(\"Shape of train_ROI_coord_stacked {} : \".format(landmark_n),train_ROI_coord_stacked.shape)\n",
        "\n",
        "print(\"Shape of test_ROI_images_stacked for LandMark {}: \".format(landmark_n) , test_ROI_images_stacked.shape)\n",
        "print(\"Shape of test_ROI_coord_stacked {} : \".format(landmark_n), test_ROI_coord_stacked.shape)"
      ],
      "metadata": {
        "execution": {
          "iopub.status.busy": "2023-01-02T19:45:33.949445Z",
          "iopub.execute_input": "2023-01-02T19:45:33.949840Z",
          "iopub.status.idle": "2023-01-02T19:45:33.957197Z",
          "shell.execute_reply.started": "2023-01-02T19:45:33.949801Z",
          "shell.execute_reply": "2023-01-02T19:45:33.955946Z"
        },
        "trusted": true,
        "id": "YxVRityR4q1X",
        "outputId": "4dd74b09-f080-4ed7-ab09-d979fdbd8ff2"
      },
      "execution_count": null,
      "outputs": [
        {
          "name": "stdout",
          "text": "Shape of train_ROI_images_stacked for LandMark 19:  (1400, 256, 256, 3)\nShape of train_ROI_coord_stacked 19 :  (1400, 2)\nShape of test_ROI_images_stacked for LandMark 19:  (50, 256, 256, 3)\nShape of test_ROI_coord_stacked 19 :  (50, 2)\n",
          "output_type": "stream"
        }
      ]
    },
    {
      "cell_type": "markdown",
      "source": [
        "#  🟡  Split Trainig data to Train and Validation   <a id = \"5\"><a>"
      ],
      "metadata": {
        "id": "pclA6lq44q1Y"
      }
    },
    {
      "cell_type": "code",
      "source": [
        "\n",
        "# using the train test split function\n",
        "train_imgs, val_imgs, train_coords, val_coords = train_test_split(train_ROI_images_stacked,train_ROI_coord_stacked ,random_state=0, test_size=0.15, shuffle=False)"
      ],
      "metadata": {
        "execution": {
          "iopub.status.busy": "2023-01-02T19:45:33.958983Z",
          "iopub.execute_input": "2023-01-02T19:45:33.959716Z",
          "iopub.status.idle": "2023-01-02T19:45:34.048844Z",
          "shell.execute_reply.started": "2023-01-02T19:45:33.959679Z",
          "shell.execute_reply": "2023-01-02T19:45:34.047801Z"
        },
        "trusted": true,
        "id": "6QIm6pAI4q1Y"
      },
      "execution_count": null,
      "outputs": []
    },
    {
      "cell_type": "code",
      "source": [
        "print(\"Shape of train_imgs\" , train_imgs.shape)\n",
        "print(\"Shape of train_coords\" , train_coords.shape)\n",
        "print(\"Shape of val_imgs\" , val_imgs.shape)\n",
        "print(\"Shape of val_coords\" , val_coords.shape)"
      ],
      "metadata": {
        "execution": {
          "iopub.status.busy": "2023-01-02T19:45:34.053440Z",
          "iopub.execute_input": "2023-01-02T19:45:34.053748Z",
          "iopub.status.idle": "2023-01-02T19:45:34.059802Z",
          "shell.execute_reply.started": "2023-01-02T19:45:34.053719Z",
          "shell.execute_reply": "2023-01-02T19:45:34.058739Z"
        },
        "trusted": true,
        "id": "JfDitWVT4q1Z",
        "outputId": "1330762f-7633-4a39-cff6-96b02fbba890"
      },
      "execution_count": null,
      "outputs": [
        {
          "name": "stdout",
          "text": "Shape of train_imgs (1190, 256, 256, 3)\nShape of train_coords (1190, 2)\nShape of val_imgs (210, 256, 256, 3)\nShape of val_coords (210, 2)\n",
          "output_type": "stream"
        }
      ]
    },
    {
      "cell_type": "code",
      "source": [
        "import seaborn as sns \n",
        "hist, bins = np.histogram(train_coords)\n",
        "sns.histplot(train_coords[:,0],bins=bins , color = \"green\" )\n",
        "sns.histplot(val_coords[:,0],bins=bins ,color = \"blue\")\n",
        "sns.histplot(test_ROI_coord_stacked[:,0],bins=bins ,color = \"red\")\n",
        "plt.xticks(bins)"
      ],
      "metadata": {
        "execution": {
          "iopub.status.busy": "2023-01-02T19:45:34.061214Z",
          "iopub.execute_input": "2023-01-02T19:45:34.062007Z",
          "iopub.status.idle": "2023-01-02T19:45:34.406296Z",
          "shell.execute_reply.started": "2023-01-02T19:45:34.061970Z",
          "shell.execute_reply": "2023-01-02T19:45:34.405346Z"
        },
        "trusted": true,
        "id": "lfrXgun84q1Z",
        "outputId": "0b553333-426f-4c12-a2fd-bed539058d44"
      },
      "execution_count": null,
      "outputs": [
        {
          "execution_count": 11,
          "output_type": "execute_result",
          "data": {
            "text/plain": "([<matplotlib.axis.XTick at 0x7f9b0d8a55d0>,\n  <matplotlib.axis.XTick at 0x7f9b0d8a5750>,\n  <matplotlib.axis.XTick at 0x7f9aecb4a590>,\n  <matplotlib.axis.XTick at 0x7f9aeaaee090>,\n  <matplotlib.axis.XTick at 0x7f9aeaaee390>,\n  <matplotlib.axis.XTick at 0x7f9aeaa88090>,\n  <matplotlib.axis.XTick at 0x7f9aeaa88190>,\n  <matplotlib.axis.XTick at 0x7f9aeaaeec90>,\n  <matplotlib.axis.XTick at 0x7f9aeaa88c90>,\n  <matplotlib.axis.XTick at 0x7f9aeaa91310>,\n  <matplotlib.axis.XTick at 0x7f9aeaa913d0>],\n [Text(0, 0, ''),\n  Text(0, 0, ''),\n  Text(0, 0, ''),\n  Text(0, 0, ''),\n  Text(0, 0, ''),\n  Text(0, 0, ''),\n  Text(0, 0, ''),\n  Text(0, 0, ''),\n  Text(0, 0, ''),\n  Text(0, 0, ''),\n  Text(0, 0, '')])"
          },
          "metadata": {}
        },
        {
          "output_type": "display_data",
          "data": {
            "text/plain": "<Figure size 432x288 with 1 Axes>",
            "image/png": "[encoded data removed]"
          },
          "metadata": {
            "needs_background": "light"
          }
        }
      ]
    },
    {
      "cell_type": "markdown",
      "source": [
        "# 🟡 6 ResNet50 model <a id=\"6\"></a>"
      ],
      "metadata": {
        "id": "lcPiCsKX4q1a"
      }
    },
    {
      "cell_type": "markdown",
      "source": [
        "## 6.1 Create ResNet50 model <a id=\"6.1\"></a>"
      ],
      "metadata": {
        "id": "KgDtVsv84q1a"
      }
    },
    {
      "cell_type": "code",
      "source": [
        "from keras.models import Model\n",
        "\n",
        "pretrained_model2= tf.keras.applications.ResNet50(include_top=False,\n",
        "                   input_shape=(256,256,3),\n",
        "                   weights=\"imagenet\")\n",
        "\n",
        "for layer_no , layer in zip(range(1,len(pretrained_model2.layers)+1),pretrained_model2.layers): #176 Layers\n",
        "#     if layer_no > 172:\n",
        "#         layer.trainable=True\n",
        "#     else:\n",
        "        layer.trainable=False\n",
        "    \n",
        "#     print(layer_no)\n",
        "x = pretrained_model2.output\n",
        "x =  tf.keras.layers.Flatten()(x)\n",
        "# initializer = tf.keras.initializers.RandomUniform(minval=0., maxval=1.) #kernel_initializer=initializer\n",
        "# x = Dense(2048, activation='relu', kernel_initializer = \"he_uniform\")(x)\n",
        "# x = Dense(1024, activation='relu',kernel_initializer = \"he_uniform\",kernel_regularizer = L2())(x)\n",
        "# x =Dropout(0.4)(x)\n",
        "\n",
        "x = Dense(512, activation='relu',kernel_regularizer = L2(0.05))(x)\n",
        "# x = Dense(128, activation='relu')(x)#,kernel_initializer = \"he_uniform\" \n",
        "# x = Dense(256, activation='relu',kernel_initializer = \"he_uniform\" ,kernel_regularizer = L2())(x)\n",
        "\n",
        "x = Dense(64, activation='relu' ,kernel_regularizer = L2())(x)\n",
        "x = Dense(2,activation='relu',kernel_regularizer = L2())(x)\n",
        "prediction= LeakyReLU(0.3)(x)\n",
        "resnet50_model = Model(inputs=pretrained_model2.input, outputs=prediction)\n"
      ],
      "metadata": {
        "scrolled": true,
        "execution": {
          "iopub.status.busy": "2023-01-02T19:45:34.409388Z",
          "iopub.execute_input": "2023-01-02T19:45:34.409675Z",
          "iopub.status.idle": "2023-01-02T19:45:38.542595Z",
          "shell.execute_reply.started": "2023-01-02T19:45:34.409646Z",
          "shell.execute_reply": "2023-01-02T19:45:38.541639Z"
        },
        "trusted": true,
        "id": "sswMbd1d4q1a",
        "outputId": "a2abdb9d-5541-450e-a07d-a8085776f8da"
      },
      "execution_count": null,
      "outputs": [
        {
          "name": "stderr",
          "text": "2023-01-02 19:45:34.472290: I tensorflow/stream_executor/cuda/cuda_gpu_executor.cc:937] successful NUMA node read from SysFS had negative value (-1), but there must be at least one NUMA node, so returning NUMA node zero\n2023-01-02 19:45:34.500759: I tensorflow/stream_executor/cuda/cuda_gpu_executor.cc:937] successful NUMA node read from SysFS had negative value (-1), but there must be at least one NUMA node, so returning NUMA node zero\n2023-01-02 19:45:34.501512: I tensorflow/stream_executor/cuda/cuda_gpu_executor.cc:937] successful NUMA node read from SysFS had negative value (-1), but there must be at least one NUMA node, so returning NUMA node zero\n2023-01-02 19:45:34.502573: I tensorflow/core/platform/cpu_feature_guard.cc:142] This TensorFlow binary is optimized with oneAPI Deep Neural Network Library (oneDNN) to use the following CPU instructions in performance-critical operations:  AVX2 AVX512F FMA\nTo enable them in other operations, rebuild TensorFlow with the appropriate compiler flags.\n2023-01-02 19:45:34.502890: I tensorflow/stream_executor/cuda/cuda_gpu_executor.cc:937] successful NUMA node read from SysFS had negative value (-1), but there must be at least one NUMA node, so returning NUMA node zero\n2023-01-02 19:45:34.503588: I tensorflow/stream_executor/cuda/cuda_gpu_executor.cc:937] successful NUMA node read from SysFS had negative value (-1), but there must be at least one NUMA node, so returning NUMA node zero\n2023-01-02 19:45:34.504234: I tensorflow/stream_executor/cuda/cuda_gpu_executor.cc:937] successful NUMA node read from SysFS had negative value (-1), but there must be at least one NUMA node, so returning NUMA node zero\n2023-01-02 19:45:35.171491: I tensorflow/stream_executor/cuda/cuda_gpu_executor.cc:937] successful NUMA node read from SysFS had negative value (-1), but there must be at least one NUMA node, so returning NUMA node zero\n2023-01-02 19:45:35.172375: I tensorflow/stream_executor/cuda/cuda_gpu_executor.cc:937] successful NUMA node read from SysFS had negative value (-1), but there must be at least one NUMA node, so returning NUMA node zero\n2023-01-02 19:45:35.173090: I tensorflow/stream_executor/cuda/cuda_gpu_executor.cc:937] successful NUMA node read from SysFS had negative value (-1), but there must be at least one NUMA node, so returning NUMA node zero\n2023-01-02 19:45:35.173686: I tensorflow/core/common_runtime/gpu/gpu_device.cc:1510] Created device /job:localhost/replica:0/task:0/device:GPU:0 with 15401 MB memory:  -> device: 0, name: Tesla P100-PCIE-16GB, pci bus id: 0000:00:04.0, compute capability: 6.0\n",
          "output_type": "stream"
        }
      ]
    },
    {
      "cell_type": "code",
      "source": [
        "resnet50_model.summary()"
      ],
      "metadata": {
        "scrolled": true,
        "execution": {
          "iopub.status.busy": "2023-01-02T19:45:38.546006Z",
          "iopub.execute_input": "2023-01-02T19:45:38.546298Z",
          "iopub.status.idle": "2023-01-02T19:45:38.573546Z",
          "shell.execute_reply.started": "2023-01-02T19:45:38.546271Z",
          "shell.execute_reply": "2023-01-02T19:45:38.572553Z"
        },
        "trusted": true,
        "id": "nMAajjGn4q1b",
        "outputId": "6ce77f12-24dd-4d40-82b1-4318c975f9fb"
      },
      "execution_count": null,
      "outputs": [
        {
          "name": "stdout",
          "text": "Model: \"model\"\n__________________________________________________________________________________________________\nLayer (type)                    Output Shape         Param #     Connected to                     \n==================================================================================================\ninput_1 (InputLayer)            [(None, 256, 256, 3) 0                                            \n__________________________________________________________________________________________________\nconv1_pad (ZeroPadding2D)       (None, 262, 262, 3)  0           input_1[0][0]                    \n__________________________________________________________________________________________________\nconv1_conv (Conv2D)             (None, 128, 128, 64) 9472        conv1_pad[0][0]                  \n__________________________________________________________________________________________________\nconv1_bn (BatchNormalization)   (None, 128, 128, 64) 256         conv1_conv[0][0]                 \n__________________________________________________________________________________________________\nconv1_relu (Activation)         (None, 128, 128, 64) 0           conv1_bn[0][0]                   \n__________________________________________________________________________________________________\npool1_pad (ZeroPadding2D)       (None, 130, 130, 64) 0           conv1_relu[0][0]                 \n__________________________________________________________________________________________________\npool1_pool (MaxPooling2D)       (None, 64, 64, 64)   0           pool1_pad[0][0]                  \n__________________________________________________________________________________________________\nconv2_block1_1_conv (Conv2D)    (None, 64, 64, 64)   4160        pool1_pool[0][0]                 \n__________________________________________________________________________________________________\nconv2_block1_1_bn (BatchNormali (None, 64, 64, 64)   256         conv2_block1_1_conv[0][0]        \n__________________________________________________________________________________________________\nconv2_block1_1_relu (Activation (None, 64, 64, 64)   0           conv2_block1_1_bn[0][0]          \n__________________________________________________________________________________________________\nconv2_block1_2_conv (Conv2D)    (None, 64, 64, 64)   36928       conv2_block1_1_relu[0][0]        \n__________________________________________________________________________________________________\nconv2_block1_2_bn (BatchNormali (None, 64, 64, 64)   256         conv2_block1_2_conv[0][0]        \n__________________________________________________________________________________________________\nconv2_block1_2_relu (Activation (None, 64, 64, 64)   0           conv2_block1_2_bn[0][0]          \n__________________________________________________________________________________________________\nconv2_block1_0_conv (Conv2D)    (None, 64, 64, 256)  16640       pool1_pool[0][0]                 \n__________________________________________________________________________________________________\nconv2_block1_3_conv (Conv2D)    (None, 64, 64, 256)  16640       conv2_block1_2_relu[0][0]        \n__________________________________________________________________________________________________\nconv2_block1_0_bn (BatchNormali (None, 64, 64, 256)  1024        conv2_block1_0_conv[0][0]        \n__________________________________________________________________________________________________\nconv2_block1_3_bn (BatchNormali (None, 64, 64, 256)  1024        conv2_block1_3_conv[0][0]        \n__________________________________________________________________________________________________\nconv2_block1_add (Add)          (None, 64, 64, 256)  0           conv2_block1_0_bn[0][0]          \n                                                                 conv2_block1_3_bn[0][0]          \n__________________________________________________________________________________________________\nconv2_block1_out (Activation)   (None, 64, 64, 256)  0           conv2_block1_add[0][0]           \n__________________________________________________________________________________________________\nconv2_block2_1_conv (Conv2D)    (None, 64, 64, 64)   16448       conv2_block1_out[0][0]           \n__________________________________________________________________________________________________\nconv2_block2_1_bn (BatchNormali (None, 64, 64, 64)   256         conv2_block2_1_conv[0][0]        \n__________________________________________________________________________________________________\nconv2_block2_1_relu (Activation (None, 64, 64, 64)   0           conv2_block2_1_bn[0][0]          \n__________________________________________________________________________________________________\nconv2_block2_2_conv (Conv2D)    (None, 64, 64, 64)   36928       conv2_block2_1_relu[0][0]        \n__________________________________________________________________________________________________\nconv2_block2_2_bn (BatchNormali (None, 64, 64, 64)   256         conv2_block2_2_conv[0][0]        \n__________________________________________________________________________________________________\nconv2_block2_2_relu (Activation (None, 64, 64, 64)   0           conv2_block2_2_bn[0][0]          \n__________________________________________________________________________________________________\nconv2_block2_3_conv (Conv2D)    (None, 64, 64, 256)  16640       conv2_block2_2_relu[0][0]        \n__________________________________________________________________________________________________\nconv2_block2_3_bn (BatchNormali (None, 64, 64, 256)  1024        conv2_block2_3_conv[0][0]        \n__________________________________________________________________________________________________\nconv2_block2_add (Add)          (None, 64, 64, 256)  0           conv2_block1_out[0][0]           \n                                                                 conv2_block2_3_bn[0][0]          \n__________________________________________________________________________________________________\nconv2_block2_out (Activation)   (None, 64, 64, 256)  0           conv2_block2_add[0][0]           \n__________________________________________________________________________________________________\nconv2_block3_1_conv (Conv2D)    (None, 64, 64, 64)   16448       conv2_block2_out[0][0]           \n__________________________________________________________________________________________________\nconv2_block3_1_bn (BatchNormali (None, 64, 64, 64)   256         conv2_block3_1_conv[0][0]        \n__________________________________________________________________________________________________\nconv2_block3_1_relu (Activation (None, 64, 64, 64)   0           conv2_block3_1_bn[0][0]          \n__________________________________________________________________________________________________\nconv2_block3_2_conv (Conv2D)    (None, 64, 64, 64)   36928       conv2_block3_1_relu[0][0]        \n__________________________________________________________________________________________________\nconv2_block3_2_bn (BatchNormali (None, 64, 64, 64)   256         conv2_block3_2_conv[0][0]        \n__________________________________________________________________________________________________\nconv2_block3_2_relu (Activation (None, 64, 64, 64)   0           conv2_block3_2_bn[0][0]          \n__________________________________________________________________________________________________\nconv2_block3_3_conv (Conv2D)    (None, 64, 64, 256)  16640       conv2_block3_2_relu[0][0]        \n__________________________________________________________________________________________________\nconv2_block3_3_bn (BatchNormali (None, 64, 64, 256)  1024        conv2_block3_3_conv[0][0]        \n__________________________________________________________________________________________________\nconv2_block3_add (Add)          (None, 64, 64, 256)  0           conv2_block2_out[0][0]           \n                                                                 conv2_block3_3_bn[0][0]          \n__________________________________________________________________________________________________\nconv2_block3_out (Activation)   (None, 64, 64, 256)  0           conv2_block3_add[0][0]           \n__________________________________________________________________________________________________\nconv3_block1_1_conv (Conv2D)    (None, 32, 32, 128)  32896       conv2_block3_out[0][0]           \n__________________________________________________________________________________________________\nconv3_block1_1_bn (BatchNormali (None, 32, 32, 128)  512         conv3_block1_1_conv[0][0]        \n__________________________________________________________________________________________________\nconv3_block1_1_relu (Activation (None, 32, 32, 128)  0           conv3_block1_1_bn[0][0]          \n__________________________________________________________________________________________________\nconv3_block1_2_conv (Conv2D)    (None, 32, 32, 128)  147584      conv3_block1_1_relu[0][0]        \n__________________________________________________________________________________________________\nconv3_block1_2_bn (BatchNormali (None, 32, 32, 128)  512         conv3_block1_2_conv[0][0]        \n__________________________________________________________________________________________________\nconv3_block1_2_relu (Activation (None, 32, 32, 128)  0           conv3_block1_2_bn[0][0]          \n__________________________________________________________________________________________________\nconv3_block1_0_conv (Conv2D)    (None, 32, 32, 512)  131584      conv2_block3_out[0][0]           \n__________________________________________________________________________________________________\nconv3_block1_3_conv (Conv2D)    (None, 32, 32, 512)  66048       conv3_block1_2_relu[0][0]        \n__________________________________________________________________________________________________\nconv3_block1_0_bn (BatchNormali (None, 32, 32, 512)  2048        conv3_block1_0_conv[0][0]        \n__________________________________________________________________________________________________\nconv3_block1_3_bn (BatchNormali (None, 32, 32, 512)  2048        conv3_block1_3_conv[0][0]        \n__________________________________________________________________________________________________\nconv3_block1_add (Add)          (None, 32, 32, 512)  0           conv3_block1_0_bn[0][0]          \n                                                                 conv3_block1_3_bn[0][0]          \n__________________________________________________________________________________________________\nconv3_block1_out (Activation)   (None, 32, 32, 512)  0           conv3_block1_add[0][0]           \n__________________________________________________________________________________________________\nconv3_block2_1_conv (Conv2D)    (None, 32, 32, 128)  65664       conv3_block1_out[0][0]           \n__________________________________________________________________________________________________\nconv3_block2_1_bn (BatchNormali (None, 32, 32, 128)  512         conv3_block2_1_conv[0][0]        \n__________________________________________________________________________________________________\nconv3_block2_1_relu (Activation (None, 32, 32, 128)  0           conv3_block2_1_bn[0][0]          \n__________________________________________________________________________________________________\nconv3_block2_2_conv (Conv2D)    (None, 32, 32, 128)  147584      conv3_block2_1_relu[0][0]        \n__________________________________________________________________________________________________\nconv3_block2_2_bn (BatchNormali (None, 32, 32, 128)  512         conv3_block2_2_conv[0][0]        \n__________________________________________________________________________________________________\nconv3_block2_2_relu (Activation (None, 32, 32, 128)  0           conv3_block2_2_bn[0][0]          \n__________________________________________________________________________________________________\nconv3_block2_3_conv (Conv2D)    (None, 32, 32, 512)  66048       conv3_block2_2_relu[0][0]        \n__________________________________________________________________________________________________\nconv3_block2_3_bn (BatchNormali (None, 32, 32, 512)  2048        conv3_block2_3_conv[0][0]        \n__________________________________________________________________________________________________\nconv3_block2_add (Add)          (None, 32, 32, 512)  0           conv3_block1_out[0][0]           \n                                                                 conv3_block2_3_bn[0][0]          \n__________________________________________________________________________________________________\nconv3_block2_out (Activation)   (None, 32, 32, 512)  0           conv3_block2_add[0][0]           \n__________________________________________________________________________________________________\nconv3_block3_1_conv (Conv2D)    (None, 32, 32, 128)  65664       conv3_block2_out[0][0]           \n__________________________________________________________________________________________________\nconv3_block3_1_bn (BatchNormali (None, 32, 32, 128)  512         conv3_block3_1_conv[0][0]        \n__________________________________________________________________________________________________\nconv3_block3_1_relu (Activation (None, 32, 32, 128)  0           conv3_block3_1_bn[0][0]          \n__________________________________________________________________________________________________\nconv3_block3_2_conv (Conv2D)    (None, 32, 32, 128)  147584      conv3_block3_1_relu[0][0]        \n__________________________________________________________________________________________________\nconv3_block3_2_bn (BatchNormali (None, 32, 32, 128)  512         conv3_block3_2_conv[0][0]        \n__________________________________________________________________________________________________\nconv3_block3_2_relu (Activation (None, 32, 32, 128)  0           conv3_block3_2_bn[0][0]          \n__________________________________________________________________________________________________\nconv3_block3_3_conv (Conv2D)    (None, 32, 32, 512)  66048       conv3_block3_2_relu[0][0]        \n__________________________________________________________________________________________________\nconv3_block3_3_bn (BatchNormali (None, 32, 32, 512)  2048        conv3_block3_3_conv[0][0]        \n__________________________________________________________________________________________________\nconv3_block3_add (Add)          (None, 32, 32, 512)  0           conv3_block2_out[0][0]           \n                                                                 conv3_block3_3_bn[0][0]          \n__________________________________________________________________________________________________\nconv3_block3_out (Activation)   (None, 32, 32, 512)  0           conv3_block3_add[0][0]           \n__________________________________________________________________________________________________\nconv3_block4_1_conv (Conv2D)    (None, 32, 32, 128)  65664       conv3_block3_out[0][0]           \n__________________________________________________________________________________________________\nconv3_block4_1_bn (BatchNormali (None, 32, 32, 128)  512         conv3_block4_1_conv[0][0]        \n__________________________________________________________________________________________________\nconv3_block4_1_relu (Activation (None, 32, 32, 128)  0           conv3_block4_1_bn[0][0]          \n__________________________________________________________________________________________________\nconv3_block4_2_conv (Conv2D)    (None, 32, 32, 128)  147584      conv3_block4_1_relu[0][0]        \n__________________________________________________________________________________________________\nconv3_block4_2_bn (BatchNormali (None, 32, 32, 128)  512         conv3_block4_2_conv[0][0]        \n__________________________________________________________________________________________________\nconv3_block4_2_relu (Activation (None, 32, 32, 128)  0           conv3_block4_2_bn[0][0]          \n__________________________________________________________________________________________________\nconv3_block4_3_conv (Conv2D)    (None, 32, 32, 512)  66048       conv3_block4_2_relu[0][0]        \n__________________________________________________________________________________________________\nconv3_block4_3_bn (BatchNormali (None, 32, 32, 512)  2048        conv3_block4_3_conv[0][0]        \n__________________________________________________________________________________________________\nconv3_block4_add (Add)          (None, 32, 32, 512)  0           conv3_block3_out[0][0]           \n                                                                 conv3_block4_3_bn[0][0]          \n__________________________________________________________________________________________________\nconv3_block4_out (Activation)   (None, 32, 32, 512)  0           conv3_block4_add[0][0]           \n__________________________________________________________________________________________________\nconv4_block1_1_conv (Conv2D)    (None, 16, 16, 256)  131328      conv3_block4_out[0][0]           \n__________________________________________________________________________________________________\nconv4_block1_1_bn (BatchNormali (None, 16, 16, 256)  1024        conv4_block1_1_conv[0][0]        \n__________________________________________________________________________________________________\nconv4_block1_1_relu (Activation (None, 16, 16, 256)  0           conv4_block1_1_bn[0][0]          \n__________________________________________________________________________________________________\nconv4_block1_2_conv (Conv2D)    (None, 16, 16, 256)  590080      conv4_block1_1_relu[0][0]        \n__________________________________________________________________________________________________\nconv4_block1_2_bn (BatchNormali (None, 16, 16, 256)  1024        conv4_block1_2_conv[0][0]        \n__________________________________________________________________________________________________\nconv4_block1_2_relu (Activation (None, 16, 16, 256)  0           conv4_block1_2_bn[0][0]          \n__________________________________________________________________________________________________\nconv4_block1_0_conv (Conv2D)    (None, 16, 16, 1024) 525312      conv3_block4_out[0][0]           \n__________________________________________________________________________________________________\nconv4_block1_3_conv (Conv2D)    (None, 16, 16, 1024) 263168      conv4_block1_2_relu[0][0]        \n__________________________________________________________________________________________________\nconv4_block1_0_bn (BatchNormali (None, 16, 16, 1024) 4096        conv4_block1_0_conv[0][0]        \n__________________________________________________________________________________________________\nconv4_block1_3_bn (BatchNormali (None, 16, 16, 1024) 4096        conv4_block1_3_conv[0][0]        \n__________________________________________________________________________________________________\nconv4_block1_add (Add)          (None, 16, 16, 1024) 0           conv4_block1_0_bn[0][0]          \n                                                                 conv4_block1_3_bn[0][0]          \n__________________________________________________________________________________________________\nconv4_block1_out (Activation)   (None, 16, 16, 1024) 0           conv4_block1_add[0][0]           \n__________________________________________________________________________________________________\nconv4_block2_1_conv (Conv2D)    (None, 16, 16, 256)  262400      conv4_block1_out[0][0]           \n__________________________________________________________________________________________________\nconv4_block2_1_bn (BatchNormali (None, 16, 16, 256)  1024        conv4_block2_1_conv[0][0]        \n__________________________________________________________________________________________________\nconv4_block2_1_relu (Activation (None, 16, 16, 256)  0           conv4_block2_1_bn[0][0]          \n__________________________________________________________________________________________________\nconv4_block2_2_conv (Conv2D)    (None, 16, 16, 256)  590080      conv4_block2_1_relu[0][0]        \n__________________________________________________________________________________________________\nconv4_block2_2_bn (BatchNormali (None, 16, 16, 256)  1024        conv4_block2_2_conv[0][0]        \n__________________________________________________________________________________________________\nconv4_block2_2_relu (Activation (None, 16, 16, 256)  0           conv4_block2_2_bn[0][0]          \n__________________________________________________________________________________________________\nconv4_block2_3_conv (Conv2D)    (None, 16, 16, 1024) 263168      conv4_block2_2_relu[0][0]        \n__________________________________________________________________________________________________\nconv4_block2_3_bn (BatchNormali (None, 16, 16, 1024) 4096        conv4_block2_3_conv[0][0]        \n__________________________________________________________________________________________________\nconv4_block2_add (Add)          (None, 16, 16, 1024) 0           conv4_block1_out[0][0]           \n                                                                 conv4_block2_3_bn[0][0]          \n__________________________________________________________________________________________________\nconv4_block2_out (Activation)   (None, 16, 16, 1024) 0           conv4_block2_add[0][0]           \n__________________________________________________________________________________________________\nconv4_block3_1_conv (Conv2D)    (None, 16, 16, 256)  262400      conv4_block2_out[0][0]           \n__________________________________________________________________________________________________\nconv4_block3_1_bn (BatchNormali (None, 16, 16, 256)  1024        conv4_block3_1_conv[0][0]        \n__________________________________________________________________________________________________\nconv4_block3_1_relu (Activation (None, 16, 16, 256)  0           conv4_block3_1_bn[0][0]          \n__________________________________________________________________________________________________\nconv4_block3_2_conv (Conv2D)    (None, 16, 16, 256)  590080      conv4_block3_1_relu[0][0]        \n__________________________________________________________________________________________________\nconv4_block3_2_bn (BatchNormali (None, 16, 16, 256)  1024        conv4_block3_2_conv[0][0]        \n__________________________________________________________________________________________________\nconv4_block3_2_relu (Activation (None, 16, 16, 256)  0           conv4_block3_2_bn[0][0]          \n__________________________________________________________________________________________________\nconv4_block3_3_conv (Conv2D)    (None, 16, 16, 1024) 263168      conv4_block3_2_relu[0][0]        \n__________________________________________________________________________________________________\nconv4_block3_3_bn (BatchNormali (None, 16, 16, 1024) 4096        conv4_block3_3_conv[0][0]        \n__________________________________________________________________________________________________\nconv4_block3_add (Add)          (None, 16, 16, 1024) 0           conv4_block2_out[0][0]           \n                                                                 conv4_block3_3_bn[0][0]          \n__________________________________________________________________________________________________\nconv4_block3_out (Activation)   (None, 16, 16, 1024) 0           conv4_block3_add[0][0]           \n__________________________________________________________________________________________________\nconv4_block4_1_conv (Conv2D)    (None, 16, 16, 256)  262400      conv4_block3_out[0][0]           \n__________________________________________________________________________________________________\nconv4_block4_1_bn (BatchNormali (None, 16, 16, 256)  1024        conv4_block4_1_conv[0][0]        \n__________________________________________________________________________________________________\nconv4_block4_1_relu (Activation (None, 16, 16, 256)  0           conv4_block4_1_bn[0][0]          \n__________________________________________________________________________________________________\nconv4_block4_2_conv (Conv2D)    (None, 16, 16, 256)  590080      conv4_block4_1_relu[0][0]        \n__________________________________________________________________________________________________\nconv4_block4_2_bn (BatchNormali (None, 16, 16, 256)  1024        conv4_block4_2_conv[0][0]        \n__________________________________________________________________________________________________\nconv4_block4_2_relu (Activation (None, 16, 16, 256)  0           conv4_block4_2_bn[0][0]          \n__________________________________________________________________________________________________\nconv4_block4_3_conv (Conv2D)    (None, 16, 16, 1024) 263168      conv4_block4_2_relu[0][0]        \n__________________________________________________________________________________________________\nconv4_block4_3_bn (BatchNormali (None, 16, 16, 1024) 4096        conv4_block4_3_conv[0][0]        \n__________________________________________________________________________________________________\nconv4_block4_add (Add)          (None, 16, 16, 1024) 0           conv4_block3_out[0][0]           \n                                                                 conv4_block4_3_bn[0][0]          \n__________________________________________________________________________________________________\nconv4_block4_out (Activation)   (None, 16, 16, 1024) 0           conv4_block4_add[0][0]           \n__________________________________________________________________________________________________\nconv4_block5_1_conv (Conv2D)    (None, 16, 16, 256)  262400      conv4_block4_out[0][0]           \n__________________________________________________________________________________________________\nconv4_block5_1_bn (BatchNormali (None, 16, 16, 256)  1024        conv4_block5_1_conv[0][0]        \n__________________________________________________________________________________________________\nconv4_block5_1_relu (Activation (None, 16, 16, 256)  0           conv4_block5_1_bn[0][0]          \n__________________________________________________________________________________________________\nconv4_block5_2_conv (Conv2D)    (None, 16, 16, 256)  590080      conv4_block5_1_relu[0][0]        \n__________________________________________________________________________________________________\nconv4_block5_2_bn (BatchNormali (None, 16, 16, 256)  1024        conv4_block5_2_conv[0][0]        \n__________________________________________________________________________________________________\nconv4_block5_2_relu (Activation (None, 16, 16, 256)  0           conv4_block5_2_bn[0][0]          \n__________________________________________________________________________________________________\nconv4_block5_3_conv (Conv2D)    (None, 16, 16, 1024) 263168      conv4_block5_2_relu[0][0]        \n__________________________________________________________________________________________________\nconv4_block5_3_bn (BatchNormali (None, 16, 16, 1024) 4096        conv4_block5_3_conv[0][0]        \n__________________________________________________________________________________________________\nconv4_block5_add (Add)          (None, 16, 16, 1024) 0           conv4_block4_out[0][0]           \n                                                                 conv4_block5_3_bn[0][0]          \n__________________________________________________________________________________________________\nconv4_block5_out (Activation)   (None, 16, 16, 1024) 0           conv4_block5_add[0][0]           \n__________________________________________________________________________________________________\nconv4_block6_1_conv (Conv2D)    (None, 16, 16, 256)  262400      conv4_block5_out[0][0]           \n__________________________________________________________________________________________________\nconv4_block6_1_bn (BatchNormali (None, 16, 16, 256)  1024        conv4_block6_1_conv[0][0]        \n__________________________________________________________________________________________________\nconv4_block6_1_relu (Activation (None, 16, 16, 256)  0           conv4_block6_1_bn[0][0]          \n__________________________________________________________________________________________________\nconv4_block6_2_conv (Conv2D)    (None, 16, 16, 256)  590080      conv4_block6_1_relu[0][0]        \n__________________________________________________________________________________________________\nconv4_block6_2_bn (BatchNormali (None, 16, 16, 256)  1024        conv4_block6_2_conv[0][0]        \n__________________________________________________________________________________________________\nconv4_block6_2_relu (Activation (None, 16, 16, 256)  0           conv4_block6_2_bn[0][0]          \n__________________________________________________________________________________________________\nconv4_block6_3_conv (Conv2D)    (None, 16, 16, 1024) 263168      conv4_block6_2_relu[0][0]        \n__________________________________________________________________________________________________\nconv4_block6_3_bn (BatchNormali (None, 16, 16, 1024) 4096        conv4_block6_3_conv[0][0]        \n__________________________________________________________________________________________________\nconv4_block6_add (Add)          (None, 16, 16, 1024) 0           conv4_block5_out[0][0]           \n                                                                 conv4_block6_3_bn[0][0]          \n__________________________________________________________________________________________________\nconv4_block6_out (Activation)   (None, 16, 16, 1024) 0           conv4_block6_add[0][0]           \n__________________________________________________________________________________________________\nconv5_block1_1_conv (Conv2D)    (None, 8, 8, 512)    524800      conv4_block6_out[0][0]           \n__________________________________________________________________________________________________\nconv5_block1_1_bn (BatchNormali (None, 8, 8, 512)    2048        conv5_block1_1_conv[0][0]        \n__________________________________________________________________________________________________\nconv5_block1_1_relu (Activation (None, 8, 8, 512)    0           conv5_block1_1_bn[0][0]          \n__________________________________________________________________________________________________\nconv5_block1_2_conv (Conv2D)    (None, 8, 8, 512)    2359808     conv5_block1_1_relu[0][0]        \n__________________________________________________________________________________________________\nconv5_block1_2_bn (BatchNormali (None, 8, 8, 512)    2048        conv5_block1_2_conv[0][0]        \n__________________________________________________________________________________________________\nconv5_block1_2_relu (Activation (None, 8, 8, 512)    0           conv5_block1_2_bn[0][0]          \n__________________________________________________________________________________________________\nconv5_block1_0_conv (Conv2D)    (None, 8, 8, 2048)   2099200     conv4_block6_out[0][0]           \n__________________________________________________________________________________________________\nconv5_block1_3_conv (Conv2D)    (None, 8, 8, 2048)   1050624     conv5_block1_2_relu[0][0]        \n__________________________________________________________________________________________________\nconv5_block1_0_bn (BatchNormali (None, 8, 8, 2048)   8192        conv5_block1_0_conv[0][0]        \n__________________________________________________________________________________________________\nconv5_block1_3_bn (BatchNormali (None, 8, 8, 2048)   8192        conv5_block1_3_conv[0][0]        \n__________________________________________________________________________________________________\nconv5_block1_add (Add)          (None, 8, 8, 2048)   0           conv5_block1_0_bn[0][0]          \n                                                                 conv5_block1_3_bn[0][0]          \n__________________________________________________________________________________________________\nconv5_block1_out (Activation)   (None, 8, 8, 2048)   0           conv5_block1_add[0][0]           \n__________________________________________________________________________________________________\nconv5_block2_1_conv (Conv2D)    (None, 8, 8, 512)    1049088     conv5_block1_out[0][0]           \n__________________________________________________________________________________________________\nconv5_block2_1_bn (BatchNormali (None, 8, 8, 512)    2048        conv5_block2_1_conv[0][0]        \n__________________________________________________________________________________________________\nconv5_block2_1_relu (Activation (None, 8, 8, 512)    0           conv5_block2_1_bn[0][0]          \n__________________________________________________________________________________________________\nconv5_block2_2_conv (Conv2D)    (None, 8, 8, 512)    2359808     conv5_block2_1_relu[0][0]        \n__________________________________________________________________________________________________\nconv5_block2_2_bn (BatchNormali (None, 8, 8, 512)    2048        conv5_block2_2_conv[0][0]        \n__________________________________________________________________________________________________\nconv5_block2_2_relu (Activation (None, 8, 8, 512)    0           conv5_block2_2_bn[0][0]          \n__________________________________________________________________________________________________\nconv5_block2_3_conv (Conv2D)    (None, 8, 8, 2048)   1050624     conv5_block2_2_relu[0][0]        \n__________________________________________________________________________________________________\nconv5_block2_3_bn (BatchNormali (None, 8, 8, 2048)   8192        conv5_block2_3_conv[0][0]        \n__________________________________________________________________________________________________\nconv5_block2_add (Add)          (None, 8, 8, 2048)   0           conv5_block1_out[0][0]           \n                                                                 conv5_block2_3_bn[0][0]          \n__________________________________________________________________________________________________\nconv5_block2_out (Activation)   (None, 8, 8, 2048)   0           conv5_block2_add[0][0]           \n__________________________________________________________________________________________________\nconv5_block3_1_conv (Conv2D)    (None, 8, 8, 512)    1049088     conv5_block2_out[0][0]           \n__________________________________________________________________________________________________\nconv5_block3_1_bn (BatchNormali (None, 8, 8, 512)    2048        conv5_block3_1_conv[0][0]        \n__________________________________________________________________________________________________\nconv5_block3_1_relu (Activation (None, 8, 8, 512)    0           conv5_block3_1_bn[0][0]          \n__________________________________________________________________________________________________\nconv5_block3_2_conv (Conv2D)    (None, 8, 8, 512)    2359808     conv5_block3_1_relu[0][0]        \n__________________________________________________________________________________________________\nconv5_block3_2_bn (BatchNormali (None, 8, 8, 512)    2048        conv5_block3_2_conv[0][0]        \n__________________________________________________________________________________________________\nconv5_block3_2_relu (Activation (None, 8, 8, 512)    0           conv5_block3_2_bn[0][0]          \n__________________________________________________________________________________________________\nconv5_block3_3_conv (Conv2D)    (None, 8, 8, 2048)   1050624     conv5_block3_2_relu[0][0]        \n__________________________________________________________________________________________________\nconv5_block3_3_bn (BatchNormali (None, 8, 8, 2048)   8192        conv5_block3_3_conv[0][0]        \n__________________________________________________________________________________________________\nconv5_block3_add (Add)          (None, 8, 8, 2048)   0           conv5_block2_out[0][0]           \n                                                                 conv5_block3_3_bn[0][0]          \n__________________________________________________________________________________________________\nconv5_block3_out (Activation)   (None, 8, 8, 2048)   0           conv5_block3_add[0][0]           \n__________________________________________________________________________________________________\nflatten (Flatten)               (None, 131072)       0           conv5_block3_out[0][0]           \n__________________________________________________________________________________________________\ndense (Dense)                   (None, 512)          67109376    flatten[0][0]                    \n__________________________________________________________________________________________________\ndense_1 (Dense)                 (None, 64)           32832       dense[0][0]                      \n__________________________________________________________________________________________________\ndense_2 (Dense)                 (None, 2)            130         dense_1[0][0]                    \n__________________________________________________________________________________________________\nleaky_re_lu (LeakyReLU)         (None, 2)            0           dense_2[0][0]                    \n==================================================================================================\nTotal params: 90,730,050\nTrainable params: 67,142,338\nNon-trainable params: 23,587,712\n__________________________________________________________________________________________________\n",
          "output_type": "stream"
        }
      ]
    },
    {
      "cell_type": "code",
      "source": [
        "# import tensorflow_addons as tfa\n",
        "# clr = tfa.optimizers.CyclicalLearningRate(initial_learning_rate=10e-4,\n",
        "#     maximal_learning_rate=0.1,\n",
        "#     scale_fn=lambda x: 1/(2.**(x-1)),\n",
        "#     step_size=2 * 32\n",
        "# )"
      ],
      "metadata": {
        "execution": {
          "iopub.status.busy": "2023-01-02T19:45:38.576241Z",
          "iopub.execute_input": "2023-01-02T19:45:38.577161Z",
          "iopub.status.idle": "2023-01-02T19:45:38.581797Z",
          "shell.execute_reply.started": "2023-01-02T19:45:38.577124Z",
          "shell.execute_reply": "2023-01-02T19:45:38.580855Z"
        },
        "trusted": true,
        "id": "eOXQzarJ4q1b"
      },
      "execution_count": null,
      "outputs": []
    },
    {
      "cell_type": "code",
      "source": [
        "checkpoint_filepath = '/resnet/checkpoint'\n",
        "\n",
        "resnet_model_checkpoint_callback = tf.keras.callbacks.ModelCheckpoint(\n",
        "    filepath=checkpoint_filepath,\n",
        "    save_weights_only=True,\n",
        "    monitor='val_loss',\n",
        "    mode='min',\n",
        "    save_best_only=True)"
      ],
      "metadata": {
        "execution": {
          "iopub.status.busy": "2023-01-02T19:45:38.583243Z",
          "iopub.execute_input": "2023-01-02T19:45:38.584055Z",
          "iopub.status.idle": "2023-01-02T19:45:38.591842Z",
          "shell.execute_reply.started": "2023-01-02T19:45:38.584018Z",
          "shell.execute_reply": "2023-01-02T19:45:38.590803Z"
        },
        "trusted": true,
        "id": "QyH27fhg4q1c"
      },
      "execution_count": null,
      "outputs": []
    },
    {
      "cell_type": "markdown",
      "source": [
        "## 6.2 Compile Model <a id=\"6.2\"></a>"
      ],
      "metadata": {
        "id": "bYzWj-K_4q1c"
      }
    },
    {
      "cell_type": "code",
      "source": [
        "resnet50_model.compile(optimizer=Adam(0.001),loss='mse',metrics=['mae'])"
      ],
      "metadata": {
        "execution": {
          "iopub.status.busy": "2023-01-02T19:45:38.594755Z",
          "iopub.execute_input": "2023-01-02T19:45:38.595041Z",
          "iopub.status.idle": "2023-01-02T19:45:38.609970Z",
          "shell.execute_reply.started": "2023-01-02T19:45:38.595005Z",
          "shell.execute_reply": "2023-01-02T19:45:38.609081Z"
        },
        "trusted": true,
        "id": "dZgjIh1R4q1c"
      },
      "execution_count": null,
      "outputs": []
    },
    {
      "cell_type": "markdown",
      "source": [
        "## 6.3 Fit Model <a id=\"6.3\"></a>"
      ],
      "metadata": {
        "id": "pKhWChFB4q1c"
      }
    },
    {
      "cell_type": "code",
      "source": [
        "start_time = time.time() #in Sec\n",
        " \n",
        "history = resnet50_model.fit(train_imgs , train_coords , validation_data = (val_imgs,val_coords), epochs=200,batch_size = 64,callbacks=[resnet_model_checkpoint_callback])\n",
        "\n",
        "end_time =  time.time()\n",
        "\n",
        "print(\"Trining_time: \",(end_time-start_time)//60 , \"Min\")"
      ],
      "metadata": {
        "scrolled": true,
        "execution": {
          "iopub.status.busy": "2023-01-02T19:45:38.612516Z",
          "iopub.execute_input": "2023-01-02T19:45:38.612780Z",
          "iopub.status.idle": "2023-01-02T20:01:03.855923Z",
          "shell.execute_reply.started": "2023-01-02T19:45:38.612755Z",
          "shell.execute_reply": "2023-01-02T20:01:03.854759Z"
        },
        "trusted": true,
        "id": "JtkkMjpr4q1d",
        "outputId": "252d3fb9-f0e9-4670-a6a6-bb2321c61b13"
      },
      "execution_count": null,
      "outputs": [
        {
          "name": "stderr",
          "text": "2023-01-02 19:45:39.106666: I tensorflow/compiler/mlir/mlir_graph_optimization_pass.cc:185] None of the MLIR Optimization Passes are enabled (registered 2)\n",
          "output_type": "stream"
        },
        {
          "name": "stdout",
          "text": "Epoch 1/200\n",
          "output_type": "stream"
        },
        {
          "name": "stderr",
          "text": "2023-01-02 19:45:43.363688: I tensorflow/stream_executor/cuda/cuda_dnn.cc:369] Loaded cuDNN version 8005\n",
          "output_type": "stream"
        },
        {
          "name": "stdout",
          "text": "19/19 [==============================] - 10s 237ms/step - loss: 2228.2930 - mae: 28.4897 - val_loss: 251.3225 - val_mae: 10.8840\nEpoch 2/200\n19/19 [==============================] - 3s 158ms/step - loss: 197.3485 - mae: 8.6850 - val_loss: 147.0426 - val_mae: 6.6067\nEpoch 3/200\n19/19 [==============================] - 3s 158ms/step - loss: 123.7691 - mae: 5.5797 - val_loss: 119.8993 - val_mae: 5.5042\nEpoch 4/200\n19/19 [==============================] - 3s 157ms/step - loss: 96.1436 - mae: 4.1814 - val_loss: 101.0945 - val_mae: 4.6486\nEpoch 5/200\n19/19 [==============================] - 3s 158ms/step - loss: 81.2308 - mae: 3.3906 - val_loss: 93.6749 - val_mae: 4.4262\nEpoch 6/200\n19/19 [==============================] - 3s 157ms/step - loss: 72.0050 - mae: 2.9407 - val_loss: 87.4610 - val_mae: 4.2610\nEpoch 7/200\n19/19 [==============================] - 3s 157ms/step - loss: 65.1077 - mae: 2.6214 - val_loss: 82.2037 - val_mae: 4.2160\nEpoch 8/200\n19/19 [==============================] - 3s 158ms/step - loss: 60.5410 - mae: 2.5058 - val_loss: 77.1905 - val_mae: 4.0341\nEpoch 9/200\n19/19 [==============================] - 3s 159ms/step - loss: 55.7962 - mae: 2.2870 - val_loss: 73.7976 - val_mae: 3.9738\nEpoch 10/200\n19/19 [==============================] - 3s 157ms/step - loss: 52.3615 - mae: 2.2001 - val_loss: 69.9257 - val_mae: 3.8782\nEpoch 11/200\n19/19 [==============================] - 3s 157ms/step - loss: 48.2927 - mae: 1.9442 - val_loss: 68.1613 - val_mae: 3.9059\nEpoch 12/200\n19/19 [==============================] - 3s 161ms/step - loss: 45.5002 - mae: 1.8485 - val_loss: 63.6180 - val_mae: 3.7017\nEpoch 13/200\n19/19 [==============================] - 3s 160ms/step - loss: 42.5151 - mae: 1.7119 - val_loss: 61.4111 - val_mae: 3.6757\nEpoch 14/200\n19/19 [==============================] - 3s 158ms/step - loss: 40.0881 - mae: 1.5723 - val_loss: 61.5944 - val_mae: 3.8493\nEpoch 15/200\n19/19 [==============================] - 3s 157ms/step - loss: 38.0900 - mae: 1.4941 - val_loss: 57.7627 - val_mae: 3.6095\nEpoch 16/200\n19/19 [==============================] - 3s 157ms/step - loss: 36.9206 - mae: 1.5306 - val_loss: 56.0866 - val_mae: 3.5903\nEpoch 17/200\n19/19 [==============================] - 3s 157ms/step - loss: 35.8160 - mae: 1.5291 - val_loss: 53.7633 - val_mae: 3.6029\nEpoch 18/200\n19/19 [==============================] - 3s 158ms/step - loss: 33.9548 - mae: 1.5177 - val_loss: 52.6341 - val_mae: 3.5407\nEpoch 19/200\n19/19 [==============================] - 3s 166ms/step - loss: 33.1866 - mae: 1.5698 - val_loss: 51.5083 - val_mae: 3.5564\nEpoch 20/200\n19/19 [==============================] - 3s 166ms/step - loss: 33.3427 - mae: 1.8113 - val_loss: 50.4061 - val_mae: 3.5890\nEpoch 21/200\n19/19 [==============================] - 3s 157ms/step - loss: 33.5744 - mae: 1.9040 - val_loss: 51.2031 - val_mae: 3.6438\nEpoch 22/200\n19/19 [==============================] - 3s 157ms/step - loss: 31.5864 - mae: 1.7234 - val_loss: 48.4412 - val_mae: 3.5262\nEpoch 23/200\n19/19 [==============================] - 3s 158ms/step - loss: 31.2911 - mae: 1.9300 - val_loss: 47.2983 - val_mae: 3.5339\nEpoch 24/200\n19/19 [==============================] - 3s 157ms/step - loss: 33.1975 - mae: 2.1485 - val_loss: 49.4007 - val_mae: 3.7463\nEpoch 25/200\n19/19 [==============================] - 3s 156ms/step - loss: 33.8638 - mae: 2.0805 - val_loss: 50.6315 - val_mae: 3.9737\nEpoch 26/200\n19/19 [==============================] - 3s 158ms/step - loss: 40.6321 - mae: 2.9497 - val_loss: 47.5475 - val_mae: 3.7746\nEpoch 27/200\n19/19 [==============================] - 3s 156ms/step - loss: 38.1088 - mae: 2.9088 - val_loss: 56.2301 - val_mae: 4.5256\nEpoch 28/200\n19/19 [==============================] - 3s 156ms/step - loss: 38.6204 - mae: 3.1447 - val_loss: 50.0345 - val_mae: 3.9966\nEpoch 29/200\n19/19 [==============================] - 3s 156ms/step - loss: 35.1782 - mae: 2.6092 - val_loss: 49.7265 - val_mae: 4.1150\nEpoch 30/200\n19/19 [==============================] - 3s 158ms/step - loss: 36.4030 - mae: 2.8970 - val_loss: 43.3674 - val_mae: 3.6132\nEpoch 31/200\n19/19 [==============================] - 3s 156ms/step - loss: 35.0729 - mae: 2.8574 - val_loss: 51.0902 - val_mae: 4.1577\nEpoch 32/200\n19/19 [==============================] - 3s 156ms/step - loss: 28.9638 - mae: 2.2620 - val_loss: 44.2816 - val_mae: 3.7854\nEpoch 33/200\n19/19 [==============================] - 3s 157ms/step - loss: 24.4772 - mae: 1.8127 - val_loss: 40.3886 - val_mae: 3.3992\nEpoch 34/200\n19/19 [==============================] - 3s 157ms/step - loss: 22.2374 - mae: 1.5311 - val_loss: 42.6454 - val_mae: 3.6508\nEpoch 35/200\n19/19 [==============================] - 3s 157ms/step - loss: 20.9103 - mae: 1.4224 - val_loss: 38.9672 - val_mae: 3.3691\nEpoch 36/200\n19/19 [==============================] - 3s 159ms/step - loss: 19.9015 - mae: 1.2648 - val_loss: 41.7230 - val_mae: 3.5888\nEpoch 37/200\n19/19 [==============================] - 3s 157ms/step - loss: 19.9728 - mae: 1.2562 - val_loss: 37.4064 - val_mae: 3.3614\nEpoch 38/200\n19/19 [==============================] - 3s 159ms/step - loss: 21.2189 - mae: 1.6034 - val_loss: 43.3933 - val_mae: 3.8390\nEpoch 39/200\n19/19 [==============================] - 3s 156ms/step - loss: 21.7632 - mae: 1.9228 - val_loss: 41.6304 - val_mae: 3.9899\nEpoch 40/200\n19/19 [==============================] - 3s 158ms/step - loss: 20.5367 - mae: 1.7743 - val_loss: 36.3706 - val_mae: 3.4566\nEpoch 41/200\n19/19 [==============================] - 3s 157ms/step - loss: 20.6816 - mae: 1.8017 - val_loss: 36.5870 - val_mae: 3.3942\nEpoch 42/200\n19/19 [==============================] - 3s 157ms/step - loss: 19.9166 - mae: 1.7050 - val_loss: 38.7636 - val_mae: 3.6381\nEpoch 43/200\n19/19 [==============================] - 3s 156ms/step - loss: 19.8148 - mae: 1.7806 - val_loss: 36.3879 - val_mae: 3.5463\nEpoch 44/200\n19/19 [==============================] - 3s 157ms/step - loss: 18.5414 - mae: 1.6338 - val_loss: 36.6889 - val_mae: 3.5403\nEpoch 45/200\n19/19 [==============================] - 3s 159ms/step - loss: 17.5577 - mae: 1.5553 - val_loss: 35.3145 - val_mae: 3.4856\nEpoch 46/200\n19/19 [==============================] - 3s 156ms/step - loss: 17.3511 - mae: 1.5688 - val_loss: 34.1274 - val_mae: 3.4410\nEpoch 47/200\n19/19 [==============================] - 3s 156ms/step - loss: 15.8943 - mae: 1.3589 - val_loss: 34.8727 - val_mae: 3.4765\nEpoch 48/200\n19/19 [==============================] - 3s 157ms/step - loss: 15.7262 - mae: 1.3297 - val_loss: 34.3719 - val_mae: 3.4609\nEpoch 49/200\n19/19 [==============================] - 3s 156ms/step - loss: 16.4925 - mae: 1.4020 - val_loss: 34.3068 - val_mae: 3.5588\nEpoch 50/200\n19/19 [==============================] - 3s 161ms/step - loss: 29.0683 - mae: 2.5435 - val_loss: 37.8203 - val_mae: 3.8287\nEpoch 51/200\n19/19 [==============================] - 3s 157ms/step - loss: 23.9106 - mae: 2.3144 - val_loss: 36.3535 - val_mae: 3.5327\nEpoch 52/200\n19/19 [==============================] - 3s 156ms/step - loss: 24.3221 - mae: 2.5238 - val_loss: 41.9500 - val_mae: 4.1141\nEpoch 53/200\n19/19 [==============================] - 3s 157ms/step - loss: 26.4109 - mae: 2.7384 - val_loss: 39.1256 - val_mae: 3.9630\nEpoch 54/200\n19/19 [==============================] - 3s 158ms/step - loss: 19.8070 - mae: 2.1084 - val_loss: 32.4847 - val_mae: 3.3794\nEpoch 55/200\n19/19 [==============================] - 3s 157ms/step - loss: 18.2559 - mae: 1.9074 - val_loss: 35.9999 - val_mae: 3.7726\nEpoch 56/200\n19/19 [==============================] - 3s 156ms/step - loss: 15.4498 - mae: 1.5322 - val_loss: 32.4157 - val_mae: 3.4802\nEpoch 57/200\n19/19 [==============================] - 3s 157ms/step - loss: 14.3755 - mae: 1.4314 - val_loss: 33.1685 - val_mae: 3.4170\nEpoch 58/200\n19/19 [==============================] - 3s 156ms/step - loss: 14.5565 - mae: 1.5682 - val_loss: 32.2696 - val_mae: 3.4633\nEpoch 59/200\n19/19 [==============================] - 3s 158ms/step - loss: 14.4113 - mae: 1.5737 - val_loss: 33.2788 - val_mae: 3.5204\nEpoch 60/200\n19/19 [==============================] - 3s 157ms/step - loss: 14.1774 - mae: 1.5187 - val_loss: 33.0685 - val_mae: 3.7256\nEpoch 61/200\n19/19 [==============================] - 3s 156ms/step - loss: 13.5155 - mae: 1.3789 - val_loss: 30.2949 - val_mae: 3.2886\nEpoch 62/200\n19/19 [==============================] - 3s 157ms/step - loss: 12.6504 - mae: 1.2223 - val_loss: 30.7556 - val_mae: 3.3431\nEpoch 63/200\n19/19 [==============================] - 3s 160ms/step - loss: 12.1833 - mae: 1.1915 - val_loss: 31.2741 - val_mae: 3.4981\nEpoch 64/200\n19/19 [==============================] - 3s 157ms/step - loss: 11.9004 - mae: 1.1609 - val_loss: 28.9618 - val_mae: 3.2372\nEpoch 65/200\n19/19 [==============================] - 3s 158ms/step - loss: 12.0622 - mae: 1.2034 - val_loss: 29.7362 - val_mae: 3.2749\nEpoch 66/200\n19/19 [==============================] - 3s 156ms/step - loss: 11.3190 - mae: 1.1451 - val_loss: 30.9430 - val_mae: 3.3504\nEpoch 67/200\n19/19 [==============================] - 3s 156ms/step - loss: 12.3723 - mae: 1.3681 - val_loss: 28.8488 - val_mae: 3.2868\nEpoch 68/200\n19/19 [==============================] - 3s 157ms/step - loss: 12.4889 - mae: 1.4373 - val_loss: 31.2431 - val_mae: 3.5755\nEpoch 69/200\n19/19 [==============================] - 3s 158ms/step - loss: 14.1476 - mae: 1.7255 - val_loss: 31.6289 - val_mae: 3.5092\nEpoch 70/200\n19/19 [==============================] - 3s 156ms/step - loss: 12.8882 - mae: 1.5452 - val_loss: 29.5922 - val_mae: 3.4877\nEpoch 71/200\n19/19 [==============================] - 3s 157ms/step - loss: 13.6968 - mae: 1.7770 - val_loss: 31.4494 - val_mae: 3.6689\nEpoch 72/200\n19/19 [==============================] - 3s 158ms/step - loss: 16.0560 - mae: 2.1491 - val_loss: 32.3640 - val_mae: 3.6139\nEpoch 73/200\n19/19 [==============================] - 3s 157ms/step - loss: 17.7847 - mae: 2.3398 - val_loss: 39.0418 - val_mae: 4.0080\nEpoch 74/200\n19/19 [==============================] - 3s 156ms/step - loss: 16.7228 - mae: 2.1372 - val_loss: 30.5736 - val_mae: 3.4854\nEpoch 75/200\n19/19 [==============================] - 3s 156ms/step - loss: 15.6889 - mae: 1.9351 - val_loss: 29.3469 - val_mae: 3.3687\nEpoch 76/200\n19/19 [==============================] - 3s 157ms/step - loss: 14.5862 - mae: 1.7644 - val_loss: 28.5725 - val_mae: 3.2882\nEpoch 77/200\n19/19 [==============================] - 3s 157ms/step - loss: 12.3777 - mae: 1.5039 - val_loss: 28.0320 - val_mae: 3.3536\nEpoch 78/200\n19/19 [==============================] - 3s 158ms/step - loss: 12.4530 - mae: 1.4296 - val_loss: 48.0888 - val_mae: 5.1718\nEpoch 79/200\n19/19 [==============================] - 3s 157ms/step - loss: 17.7484 - mae: 2.3887 - val_loss: 31.7436 - val_mae: 3.6861\nEpoch 80/200\n19/19 [==============================] - 3s 157ms/step - loss: 17.3213 - mae: 2.2751 - val_loss: 40.9708 - val_mae: 4.1325\nEpoch 81/200\n19/19 [==============================] - 3s 156ms/step - loss: 14.7009 - mae: 1.8579 - val_loss: 34.3871 - val_mae: 3.8925\nEpoch 82/200\n19/19 [==============================] - 3s 155ms/step - loss: 15.9605 - mae: 2.1104 - val_loss: 34.3615 - val_mae: 3.5979\nEpoch 83/200\n19/19 [==============================] - 3s 156ms/step - loss: 18.8748 - mae: 2.5301 - val_loss: 31.2471 - val_mae: 3.5945\nEpoch 84/200\n19/19 [==============================] - 3s 157ms/step - loss: 22.1951 - mae: 2.8363 - val_loss: 39.9227 - val_mae: 4.2428\nEpoch 85/200\n19/19 [==============================] - 3s 159ms/step - loss: 21.2480 - mae: 2.7810 - val_loss: 40.2398 - val_mae: 4.2832\nEpoch 86/200\n19/19 [==============================] - 3s 156ms/step - loss: 22.8200 - mae: 2.9584 - val_loss: 37.1047 - val_mae: 4.1364\nEpoch 87/200\n19/19 [==============================] - 3s 157ms/step - loss: 17.9832 - mae: 2.3559 - val_loss: 38.6404 - val_mae: 4.3634\nEpoch 88/200\n19/19 [==============================] - 3s 158ms/step - loss: 18.4424 - mae: 2.4634 - val_loss: 37.4081 - val_mae: 4.1578\nEpoch 89/200\n19/19 [==============================] - 3s 156ms/step - loss: 14.1008 - mae: 1.8308 - val_loss: 30.5502 - val_mae: 3.6984\nEpoch 90/200\n19/19 [==============================] - 3s 156ms/step - loss: 12.3181 - mae: 1.6727 - val_loss: 28.8715 - val_mae: 3.4634\nEpoch 91/200\n19/19 [==============================] - 3s 157ms/step - loss: 10.6998 - mae: 1.3914 - val_loss: 26.6842 - val_mae: 3.2991\nEpoch 92/200\n19/19 [==============================] - 3s 170ms/step - loss: 9.7037 - mae: 1.2483 - val_loss: 27.9171 - val_mae: 3.4006\nEpoch 93/200\n19/19 [==============================] - 3s 158ms/step - loss: 9.8245 - mae: 1.3005 - val_loss: 28.2133 - val_mae: 3.4000\nEpoch 94/200\n19/19 [==============================] - 3s 156ms/step - loss: 10.4166 - mae: 1.5048 - val_loss: 28.7848 - val_mae: 3.4903\nEpoch 95/200\n19/19 [==============================] - 3s 157ms/step - loss: 10.6102 - mae: 1.5683 - val_loss: 27.3923 - val_mae: 3.2911\nEpoch 96/200\n19/19 [==============================] - 3s 158ms/step - loss: 11.4722 - mae: 1.6848 - val_loss: 30.8629 - val_mae: 3.6415\nEpoch 97/200\n19/19 [==============================] - 3s 156ms/step - loss: 11.3918 - mae: 1.5980 - val_loss: 33.5979 - val_mae: 3.8971\nEpoch 98/200\n19/19 [==============================] - 3s 156ms/step - loss: 12.1080 - mae: 1.8174 - val_loss: 27.7354 - val_mae: 3.3671\nEpoch 99/200\n19/19 [==============================] - 3s 157ms/step - loss: 12.6557 - mae: 1.8909 - val_loss: 32.4348 - val_mae: 3.5962\nEpoch 100/200\n19/19 [==============================] - 3s 157ms/step - loss: 12.4859 - mae: 1.7746 - val_loss: 31.5512 - val_mae: 3.6312\nEpoch 101/200\n19/19 [==============================] - 3s 157ms/step - loss: 13.2671 - mae: 1.9073 - val_loss: 40.1953 - val_mae: 4.3557\nEpoch 102/200\n19/19 [==============================] - 3s 157ms/step - loss: 20.3437 - mae: 2.8369 - val_loss: 40.4161 - val_mae: 4.0951\nEpoch 103/200\n19/19 [==============================] - 3s 161ms/step - loss: 19.2305 - mae: 2.6297 - val_loss: 38.1024 - val_mae: 3.9055\nEpoch 104/200\n19/19 [==============================] - 3s 156ms/step - loss: 18.0395 - mae: 2.5289 - val_loss: 30.8847 - val_mae: 3.6317\nEpoch 105/200\n19/19 [==============================] - 3s 156ms/step - loss: 15.4090 - mae: 2.2316 - val_loss: 35.1157 - val_mae: 3.9722\nEpoch 106/200\n19/19 [==============================] - 3s 157ms/step - loss: 15.6732 - mae: 2.2766 - val_loss: 32.5571 - val_mae: 3.6596\nEpoch 107/200\n19/19 [==============================] - 3s 157ms/step - loss: 13.1462 - mae: 1.8935 - val_loss: 28.2975 - val_mae: 3.4257\nEpoch 108/200\n19/19 [==============================] - 3s 156ms/step - loss: 10.7372 - mae: 1.5389 - val_loss: 29.7502 - val_mae: 3.5210\nEpoch 109/200\n19/19 [==============================] - 3s 156ms/step - loss: 9.8949 - mae: 1.4281 - val_loss: 25.9675 - val_mae: 3.2219\nEpoch 110/200\n19/19 [==============================] - 3s 157ms/step - loss: 8.7580 - mae: 1.2035 - val_loss: 27.7896 - val_mae: 3.3467\nEpoch 111/200\n19/19 [==============================] - 3s 162ms/step - loss: 8.3342 - mae: 1.1623 - val_loss: 25.1613 - val_mae: 3.1839\nEpoch 112/200\n19/19 [==============================] - 3s 157ms/step - loss: 8.1165 - mae: 1.1159 - val_loss: 29.1160 - val_mae: 3.5347\nEpoch 113/200\n19/19 [==============================] - 3s 158ms/step - loss: 8.3511 - mae: 1.1801 - val_loss: 27.4493 - val_mae: 3.3891\nEpoch 114/200\n19/19 [==============================] - 3s 156ms/step - loss: 8.4628 - mae: 1.2081 - val_loss: 26.7375 - val_mae: 3.3579\nEpoch 115/200\n19/19 [==============================] - 3s 156ms/step - loss: 9.2098 - mae: 1.4224 - val_loss: 26.1085 - val_mae: 3.3667\nEpoch 116/200\n19/19 [==============================] - 3s 157ms/step - loss: 10.7990 - mae: 1.5661 - val_loss: 28.8462 - val_mae: 3.5417\nEpoch 117/200\n19/19 [==============================] - 3s 158ms/step - loss: 13.6695 - mae: 2.0060 - val_loss: 30.0818 - val_mae: 3.6604\nEpoch 118/200\n19/19 [==============================] - 3s 156ms/step - loss: 16.5611 - mae: 2.3265 - val_loss: 36.4752 - val_mae: 4.0633\nEpoch 119/200\n19/19 [==============================] - 3s 159ms/step - loss: 17.8258 - mae: 2.6447 - val_loss: 31.6650 - val_mae: 3.9015\nEpoch 120/200\n19/19 [==============================] - 3s 158ms/step - loss: 19.6854 - mae: 2.9001 - val_loss: 35.5207 - val_mae: 4.1350\nEpoch 121/200\n19/19 [==============================] - 3s 158ms/step - loss: 14.3478 - mae: 2.1074 - val_loss: 34.9653 - val_mae: 3.8261\nEpoch 122/200\n19/19 [==============================] - 3s 157ms/step - loss: 13.0805 - mae: 1.9050 - val_loss: 29.0766 - val_mae: 3.5927\nEpoch 123/200\n19/19 [==============================] - 3s 156ms/step - loss: 13.2991 - mae: 1.8817 - val_loss: 29.8280 - val_mae: 3.6798\nEpoch 124/200\n19/19 [==============================] - 3s 157ms/step - loss: 12.6323 - mae: 1.7395 - val_loss: 27.5861 - val_mae: 3.4570\nEpoch 125/200\n19/19 [==============================] - 3s 157ms/step - loss: 12.7550 - mae: 1.8304 - val_loss: 26.2204 - val_mae: 3.3696\nEpoch 126/200\n19/19 [==============================] - 3s 157ms/step - loss: 12.1163 - mae: 1.7235 - val_loss: 35.8280 - val_mae: 4.1979\nEpoch 127/200\n19/19 [==============================] - 3s 156ms/step - loss: 13.0967 - mae: 2.0484 - val_loss: 26.9503 - val_mae: 3.4335\nEpoch 128/200\n19/19 [==============================] - 3s 158ms/step - loss: 11.2204 - mae: 1.6605 - val_loss: 25.3832 - val_mae: 3.2618\nEpoch 129/200\n19/19 [==============================] - 3s 156ms/step - loss: 9.1454 - mae: 1.3727 - val_loss: 26.5107 - val_mae: 3.3248\nEpoch 130/200\n19/19 [==============================] - 3s 160ms/step - loss: 9.3281 - mae: 1.4597 - val_loss: 26.9205 - val_mae: 3.3686\nEpoch 131/200\n19/19 [==============================] - 3s 157ms/step - loss: 10.2344 - mae: 1.6586 - val_loss: 26.1133 - val_mae: 3.2741\nEpoch 132/200\n19/19 [==============================] - 3s 157ms/step - loss: 9.6110 - mae: 1.5123 - val_loss: 30.0194 - val_mae: 3.5910\nEpoch 133/200\n19/19 [==============================] - 3s 156ms/step - loss: 10.2655 - mae: 1.5946 - val_loss: 25.2618 - val_mae: 3.2315\nEpoch 134/200\n19/19 [==============================] - 3s 157ms/step - loss: 9.8948 - mae: 1.5661 - val_loss: 27.2733 - val_mae: 3.3375\nEpoch 135/200\n19/19 [==============================] - 3s 156ms/step - loss: 9.4619 - mae: 1.4781 - val_loss: 26.2506 - val_mae: 3.3426\nEpoch 136/200\n19/19 [==============================] - 3s 157ms/step - loss: 9.5874 - mae: 1.4970 - val_loss: 27.8275 - val_mae: 3.4947\nEpoch 137/200\n19/19 [==============================] - 3s 156ms/step - loss: 9.0099 - mae: 1.3980 - val_loss: 25.1085 - val_mae: 3.2548\nEpoch 138/200\n19/19 [==============================] - 3s 158ms/step - loss: 8.5001 - mae: 1.3365 - val_loss: 25.4898 - val_mae: 3.2703\nEpoch 139/200\n19/19 [==============================] - 3s 158ms/step - loss: 10.0173 - mae: 1.6984 - val_loss: 24.9491 - val_mae: 3.2747\nEpoch 140/200\n19/19 [==============================] - 3s 157ms/step - loss: 9.6095 - mae: 1.6092 - val_loss: 26.7661 - val_mae: 3.4270\nEpoch 141/200\n19/19 [==============================] - 3s 156ms/step - loss: 9.2277 - mae: 1.5610 - val_loss: 28.4860 - val_mae: 3.5118\nEpoch 142/200\n19/19 [==============================] - 3s 158ms/step - loss: 10.3519 - mae: 1.7506 - val_loss: 27.9260 - val_mae: 3.5733\nEpoch 143/200\n19/19 [==============================] - 3s 156ms/step - loss: 9.7505 - mae: 1.6179 - val_loss: 28.4803 - val_mae: 3.4740\nEpoch 144/200\n19/19 [==============================] - 3s 157ms/step - loss: 10.1661 - mae: 1.6490 - val_loss: 27.9491 - val_mae: 3.6452\nEpoch 145/200\n19/19 [==============================] - 3s 156ms/step - loss: 11.5961 - mae: 1.8035 - val_loss: 27.6466 - val_mae: 3.4386\nEpoch 146/200\n19/19 [==============================] - 3s 159ms/step - loss: 10.5302 - mae: 1.6985 - val_loss: 29.8959 - val_mae: 3.8388\nEpoch 147/200\n19/19 [==============================] - 3s 159ms/step - loss: 11.6030 - mae: 1.8855 - val_loss: 23.7563 - val_mae: 3.1698\nEpoch 148/200\n19/19 [==============================] - 3s 159ms/step - loss: 9.8310 - mae: 1.5971 - val_loss: 27.6638 - val_mae: 3.5004\nEpoch 149/200\n19/19 [==============================] - 3s 156ms/step - loss: 11.2664 - mae: 1.8576 - val_loss: 25.1323 - val_mae: 3.1903\nEpoch 150/200\n19/19 [==============================] - 3s 156ms/step - loss: 12.3692 - mae: 1.9663 - val_loss: 33.8100 - val_mae: 3.8957\nEpoch 151/200\n19/19 [==============================] - 3s 157ms/step - loss: 15.4910 - mae: 2.3605 - val_loss: 31.8164 - val_mae: 3.8307\nEpoch 152/200\n19/19 [==============================] - 3s 156ms/step - loss: 13.4458 - mae: 2.0130 - val_loss: 33.2874 - val_mae: 3.8906\nEpoch 153/200\n19/19 [==============================] - 3s 156ms/step - loss: 12.9816 - mae: 2.0240 - val_loss: 31.0731 - val_mae: 4.0021\nEpoch 154/200\n19/19 [==============================] - 3s 157ms/step - loss: 13.8934 - mae: 2.1719 - val_loss: 27.5503 - val_mae: 3.5291\nEpoch 155/200\n19/19 [==============================] - 3s 161ms/step - loss: 14.9311 - mae: 2.3959 - val_loss: 33.0673 - val_mae: 3.9654\nEpoch 156/200\n19/19 [==============================] - 3s 157ms/step - loss: 13.2480 - mae: 2.1610 - val_loss: 26.3117 - val_mae: 3.3180\nEpoch 157/200\n19/19 [==============================] - 3s 157ms/step - loss: 11.3628 - mae: 1.7798 - val_loss: 33.0648 - val_mae: 4.0382\nEpoch 158/200\n19/19 [==============================] - 3s 157ms/step - loss: 12.6580 - mae: 2.1224 - val_loss: 25.2272 - val_mae: 3.2565\nEpoch 159/200\n19/19 [==============================] - 3s 158ms/step - loss: 10.6919 - mae: 1.7399 - val_loss: 26.3808 - val_mae: 3.3668\nEpoch 160/200\n19/19 [==============================] - 3s 156ms/step - loss: 10.1313 - mae: 1.6498 - val_loss: 27.6027 - val_mae: 3.6016\nEpoch 161/200\n19/19 [==============================] - 3s 156ms/step - loss: 10.5758 - mae: 1.6964 - val_loss: 30.9606 - val_mae: 3.8024\nEpoch 162/200\n19/19 [==============================] - 3s 157ms/step - loss: 10.6989 - mae: 1.7350 - val_loss: 28.7695 - val_mae: 3.6256\nEpoch 163/200\n19/19 [==============================] - 3s 157ms/step - loss: 12.8468 - mae: 2.1749 - val_loss: 30.6241 - val_mae: 3.6617\nEpoch 164/200\n19/19 [==============================] - 3s 156ms/step - loss: 12.8721 - mae: 2.1315 - val_loss: 27.7864 - val_mae: 3.5894\nEpoch 165/200\n19/19 [==============================] - 3s 156ms/step - loss: 12.4103 - mae: 2.0426 - val_loss: 30.3357 - val_mae: 3.8043\nEpoch 166/200\n19/19 [==============================] - 3s 160ms/step - loss: 11.9663 - mae: 1.9536 - val_loss: 28.5291 - val_mae: 3.6065\nEpoch 167/200\n19/19 [==============================] - 3s 157ms/step - loss: 14.4076 - mae: 2.2439 - val_loss: 34.0080 - val_mae: 4.1665\nEpoch 168/200\n19/19 [==============================] - 3s 156ms/step - loss: 12.3093 - mae: 1.9892 - val_loss: 30.6610 - val_mae: 3.6576\nEpoch 169/200\n19/19 [==============================] - 3s 156ms/step - loss: 9.3596 - mae: 1.4921 - val_loss: 24.3858 - val_mae: 3.1650\nEpoch 170/200\n19/19 [==============================] - 3s 158ms/step - loss: 8.6165 - mae: 1.3840 - val_loss: 25.2612 - val_mae: 3.2565\nEpoch 171/200\n19/19 [==============================] - 3s 168ms/step - loss: 9.8175 - mae: 1.7139 - val_loss: 26.5976 - val_mae: 3.3920\nEpoch 172/200\n19/19 [==============================] - 3s 156ms/step - loss: 9.2914 - mae: 1.5487 - val_loss: 25.0351 - val_mae: 3.3248\nEpoch 173/200\n19/19 [==============================] - 3s 157ms/step - loss: 9.0584 - mae: 1.5435 - val_loss: 26.3773 - val_mae: 3.4700\nEpoch 174/200\n19/19 [==============================] - 3s 157ms/step - loss: 10.1081 - mae: 1.6929 - val_loss: 31.7971 - val_mae: 3.7691\nEpoch 175/200\n19/19 [==============================] - 3s 156ms/step - loss: 15.6624 - mae: 2.3445 - val_loss: 33.1687 - val_mae: 4.0125\nEpoch 176/200\n19/19 [==============================] - 3s 160ms/step - loss: 16.6075 - mae: 2.5137 - val_loss: 30.3827 - val_mae: 3.7501\nEpoch 177/200\n19/19 [==============================] - 3s 159ms/step - loss: 14.0241 - mae: 2.2574 - val_loss: 28.1141 - val_mae: 3.5448\nEpoch 178/200\n19/19 [==============================] - 3s 156ms/step - loss: 11.6437 - mae: 1.8377 - val_loss: 27.2286 - val_mae: 3.4808\nEpoch 179/200\n19/19 [==============================] - 3s 156ms/step - loss: 10.4903 - mae: 1.6891 - val_loss: 28.9034 - val_mae: 3.7363\nEpoch 180/200\n19/19 [==============================] - 3s 156ms/step - loss: 10.6839 - mae: 1.7947 - val_loss: 29.4386 - val_mae: 3.7406\nEpoch 181/200\n19/19 [==============================] - 3s 157ms/step - loss: 10.0671 - mae: 1.6602 - val_loss: 24.4144 - val_mae: 3.2170\nEpoch 182/200\n19/19 [==============================] - 3s 156ms/step - loss: 9.5299 - mae: 1.5720 - val_loss: 26.7048 - val_mae: 3.3777\nEpoch 183/200\n19/19 [==============================] - 3s 156ms/step - loss: 8.9563 - mae: 1.4954 - val_loss: 23.8693 - val_mae: 3.0822\nEpoch 184/200\n19/19 [==============================] - 3s 158ms/step - loss: 8.7167 - mae: 1.4446 - val_loss: 23.4968 - val_mae: 3.1813\nEpoch 185/200\n19/19 [==============================] - 3s 157ms/step - loss: 8.9771 - mae: 1.5294 - val_loss: 28.9973 - val_mae: 3.6961\nEpoch 186/200\n19/19 [==============================] - 3s 157ms/step - loss: 11.1548 - mae: 1.9044 - val_loss: 26.3923 - val_mae: 3.4578\nEpoch 187/200\n19/19 [==============================] - 3s 156ms/step - loss: 12.1630 - mae: 2.1125 - val_loss: 26.6150 - val_mae: 3.4065\nEpoch 188/200\n19/19 [==============================] - 3s 156ms/step - loss: 12.6241 - mae: 2.1073 - val_loss: 25.7104 - val_mae: 3.3113\nEpoch 189/200\n19/19 [==============================] - 3s 157ms/step - loss: 10.6768 - mae: 1.7561 - val_loss: 29.8928 - val_mae: 3.6984\nEpoch 190/200\n19/19 [==============================] - 3s 156ms/step - loss: 10.4552 - mae: 1.7148 - val_loss: 28.0560 - val_mae: 3.5643\nEpoch 191/200\n19/19 [==============================] - 3s 156ms/step - loss: 9.8200 - mae: 1.6442 - val_loss: 24.9878 - val_mae: 3.2801\nEpoch 192/200\n19/19 [==============================] - 3s 156ms/step - loss: 9.0608 - mae: 1.5378 - val_loss: 26.0823 - val_mae: 3.5216\nEpoch 193/200\n19/19 [==============================] - 3s 156ms/step - loss: 9.5441 - mae: 1.6616 - val_loss: 28.6898 - val_mae: 3.7151\nEpoch 194/200\n19/19 [==============================] - 3s 158ms/step - loss: 9.9293 - mae: 1.7023 - val_loss: 26.1402 - val_mae: 3.3764\nEpoch 195/200\n19/19 [==============================] - 3s 157ms/step - loss: 12.1824 - mae: 2.0305 - val_loss: 29.5990 - val_mae: 3.7082\nEpoch 196/200\n19/19 [==============================] - 3s 157ms/step - loss: 12.4354 - mae: 2.0158 - val_loss: 28.7362 - val_mae: 3.6428\nEpoch 197/200\n19/19 [==============================] - 3s 157ms/step - loss: 12.1440 - mae: 1.8861 - val_loss: 27.6761 - val_mae: 3.5111\nEpoch 198/200\n19/19 [==============================] - 3s 156ms/step - loss: 11.7406 - mae: 1.8126 - val_loss: 27.9347 - val_mae: 3.6214\nEpoch 199/200\n19/19 [==============================] - 3s 156ms/step - loss: 13.7969 - mae: 1.9805 - val_loss: 31.5472 - val_mae: 4.0466\nEpoch 200/200\n19/19 [==============================] - 3s 157ms/step - loss: 12.6547 - mae: 1.9476 - val_loss: 27.2679 - val_mae: 3.5561\nTrining_time:  15.0 Min\n",
          "output_type": "stream"
        }
      ]
    },
    {
      "cell_type": "markdown",
      "source": [
        " ## 6.4 Losses Graphs <a id=\"6.4\"></a>"
      ],
      "metadata": {
        "id": "CLnwN1lq4q1d"
      }
    },
    {
      "cell_type": "code",
      "source": [
        "plt.plot(history.history['mae'], label = \"Training mae\")\n",
        "plt.plot(history.history['val_mae'], label = \"Val mae\")\n",
        "plt.legend()\n",
        "plt.show()"
      ],
      "metadata": {
        "execution": {
          "iopub.status.busy": "2023-01-02T20:01:03.857445Z",
          "iopub.execute_input": "2023-01-02T20:01:03.857747Z",
          "iopub.status.idle": "2023-01-02T20:01:04.060318Z",
          "shell.execute_reply.started": "2023-01-02T20:01:03.857717Z",
          "shell.execute_reply": "2023-01-02T20:01:04.059377Z"
        },
        "trusted": true,
        "id": "Ad6NhkAB4q1d",
        "outputId": "cd91935d-c684-4601-ed86-21446cc296a6"
      },
      "execution_count": null,
      "outputs": [
        {
          "output_type": "display_data",
          "data": {
            "text/plain": "<Figure size 432x288 with 1 Axes>",
            "image/png": "[encoded data removed]"
          },
          "metadata": {
            "needs_background": "light"
          }
        }
      ]
    },
    {
      "cell_type": "markdown",
      "source": [
        "# 🟡 7 Make Predications <a id=\"7\" > <a>"
      ],
      "metadata": {
        "id": "ZQFcOY3W4q1e"
      }
    },
    {
      "cell_type": "markdown",
      "source": [
        "## 7.1 Radial Error Function <a id=\"7.1\" > <a>"
      ],
      "metadata": {
        "id": "xI5yLgJS4q1e"
      }
    },
    {
      "cell_type": "code",
      "source": [
        "def mean_radial_error_landmark(x_true,y_true,x_pred,y_pred):\n",
        "    delta_x_2 =  np.power( ( np.subtract(x_true , x_pred) )*0.1 , 2) #(2,4)\n",
        "    delta_y_2 =  np.power( ( np.subtract(y_true, y_pred ) )*0.1 , 2) #(2,4)\n",
        "\n",
        "    radial_error_lm_ex = np.sqrt(np.add(delta_x_2,delta_y_2)) #(2,4)\n",
        "\n",
        "    radial_error_lm = np.sum(radial_error_lm_ex, axis = 0,keepdims=True) #(1,4)\n",
        "\n",
        "    mean_radial_error_lm = radial_error_lm / x_true.shape[0]\n",
        "\n",
        "    return radial_error_lm_ex,mean_radial_error_lm"
      ],
      "metadata": {
        "execution": {
          "iopub.status.busy": "2023-01-02T20:01:04.061610Z",
          "iopub.execute_input": "2023-01-02T20:01:04.062182Z",
          "iopub.status.idle": "2023-01-02T20:01:04.069027Z",
          "shell.execute_reply.started": "2023-01-02T20:01:04.062142Z",
          "shell.execute_reply": "2023-01-02T20:01:04.068084Z"
        },
        "trusted": true,
        "id": "HJl0nXza4q1e"
      },
      "execution_count": null,
      "outputs": []
    },
    {
      "cell_type": "markdown",
      "source": [
        "## 7.2 Successful Detection Rate Function (SDR) <a id=\"7.2\" > <a>"
      ],
      "metadata": {
        "id": "n8SM0z6a4q1f"
      }
    },
    {
      "cell_type": "code",
      "source": [
        "def sdr(mre,mre_range):\n",
        "    return((mre[mre<=mre_range].shape[0])/mre.shape[0])*100"
      ],
      "metadata": {
        "id": "-6cslmvh4q1f"
      },
      "execution_count": null,
      "outputs": []
    },
    {
      "cell_type": "code",
      "source": [
        "prediction_ResNet50=resnet50_model.predict(test_ROI_images_stacked)\n",
        "\n",
        "print(\"MAE: \",MAE_SKL(test_ROI_coord_stacked, prediction_ResNet50))"
      ],
      "metadata": {
        "execution": {
          "iopub.status.busy": "2023-01-02T20:01:04.070287Z",
          "iopub.execute_input": "2023-01-02T20:01:04.072365Z",
          "iopub.status.idle": "2023-01-02T20:01:05.466022Z",
          "shell.execute_reply.started": "2023-01-02T20:01:04.072335Z",
          "shell.execute_reply": "2023-01-02T20:01:05.464984Z"
        },
        "trusted": true,
        "id": "lrRrWx6L4q1f",
        "outputId": "583dfaf7-a13e-4027-c107-aed6d8462aa4"
      },
      "execution_count": null,
      "outputs": [
        {
          "name": "stdout",
          "text": "MAE:  37.38689735412598\n",
          "output_type": "stream"
        }
      ]
    },
    {
      "cell_type": "code",
      "source": [
        "print(test_ROI_images_stacked.shape)\n",
        "print(prediction_ResNet50.shape)\n",
        "print(test_ROI_coord_stacked.shape)"
      ],
      "metadata": {
        "execution": {
          "iopub.status.busy": "2023-01-02T20:01:05.467746Z",
          "iopub.execute_input": "2023-01-02T20:01:05.468180Z",
          "iopub.status.idle": "2023-01-02T20:01:05.475070Z",
          "shell.execute_reply.started": "2023-01-02T20:01:05.468138Z",
          "shell.execute_reply": "2023-01-02T20:01:05.473189Z"
        },
        "trusted": true,
        "id": "62rmZlVs4q1g",
        "outputId": "97978fbd-92c0-40b1-db72-7b0014940dd7"
      },
      "execution_count": null,
      "outputs": [
        {
          "name": "stdout",
          "text": "(50, 256, 256, 3)\n(50, 2)\n(50, 2)\n",
          "output_type": "stream"
        }
      ]
    },
    {
      "cell_type": "markdown",
      "source": [
        "## 7.3 Mean Radial Error <a id=\"7.3\" > <a>"
      ],
      "metadata": {
        "id": "OD2RVzmt4q1g"
      }
    },
    {
      "cell_type": "code",
      "source": [
        "x_true = test_ROI_coord_stacked[:,0]\n",
        "y_true = test_ROI_coord_stacked[:,1]\n",
        "\n",
        "ResNet_x_pred = prediction_ResNet50[:,0]\n",
        "ResNet_y_pred = prediction_ResNet50[:,1]\n",
        "\n",
        "ResNet_radial_error_lm_ex , ResNet_mre_each_lm = (mean_radial_error_landmark(x_true,y_true,ResNet_x_pred,ResNet_y_pred))\n",
        "print(\"Mean Radial Error: \",ResNet_mre_each_lm)\n"
      ],
      "metadata": {
        "execution": {
          "iopub.status.busy": "2023-01-02T20:01:05.476290Z",
          "iopub.execute_input": "2023-01-02T20:01:05.476799Z",
          "iopub.status.idle": "2023-01-02T20:01:05.486090Z",
          "shell.execute_reply.started": "2023-01-02T20:01:05.476760Z",
          "shell.execute_reply": "2023-01-02T20:01:05.484948Z"
        },
        "trusted": true,
        "id": "2_jTZZb44q1g",
        "outputId": "7659bcba-258e-4544-b0eb-e66b384bb494"
      },
      "execution_count": null,
      "outputs": [
        {
          "name": "stdout",
          "text": "Mean Radial Error:  [6.16116166]\n",
          "output_type": "stream"
        }
      ]
    },
    {
      "cell_type": "markdown",
      "source": [
        "## 7.4 BoxPlot <a id=\"7.4\" > <a>"
      ],
      "metadata": {
        "id": "p5ZZm8ZG4q1h"
      }
    },
    {
      "cell_type": "code",
      "source": [
        "plt.figure(figsize=(6,5))\n",
        "sns.boxplot(data = ResNet_radial_error_lm_ex[:])\n",
        "plt.xlabel(\"LandMark {}\".format(landmark_n) )\n",
        "plt.ylabel(\"Error (mm)\")\n",
        "plt.title(\"Radial Error for each LandMark {} across 50 test image (ResNet)\".format(landmark_n))"
      ],
      "metadata": {
        "execution": {
          "iopub.status.busy": "2023-01-02T20:01:05.487948Z",
          "iopub.execute_input": "2023-01-02T20:01:05.488665Z",
          "iopub.status.idle": "2023-01-02T20:01:05.682623Z",
          "shell.execute_reply.started": "2023-01-02T20:01:05.488627Z",
          "shell.execute_reply": "2023-01-02T20:01:05.681691Z"
        },
        "trusted": true,
        "id": "mlOeIuuL4q1h",
        "outputId": "db9147a6-fac0-4063-8062-908d4af252ee"
      },
      "execution_count": null,
      "outputs": [
        {
          "execution_count": 23,
          "output_type": "execute_result",
          "data": {
            "text/plain": "Text(0.5, 1.0, 'Radial Error for each LandMark 19 across 50 test image (ResNet)')"
          },
          "metadata": {}
        },
        {
          "output_type": "display_data",
          "data": {
            "text/plain": "<Figure size 432x360 with 1 Axes>",
            "image/png": "[encoded data removed]"
          },
          "metadata": {
            "needs_background": "light"
          }
        }
      ]
    },
    {
      "cell_type": "code",
      "source": [
        "np.save('boxPlot_L{}.npy'.format(landmark_n),ResNet_radial_error_lm_ex[:])\n",
        "from IPython.display import FileLink\n",
        "FileLink(\"./boxPlot_L{}.npy\".format(landmark_n))"
      ],
      "metadata": {
        "execution": {
          "iopub.status.busy": "2023-01-02T20:01:05.684055Z",
          "iopub.execute_input": "2023-01-02T20:01:05.684404Z",
          "iopub.status.idle": "2023-01-02T20:01:05.691652Z",
          "shell.execute_reply.started": "2023-01-02T20:01:05.684368Z",
          "shell.execute_reply": "2023-01-02T20:01:05.690685Z"
        },
        "trusted": true,
        "id": "1groOSjf4q1h",
        "outputId": "14f15afa-9df0-4880-9517-add0247b2611"
      },
      "execution_count": null,
      "outputs": [
        {
          "execution_count": 24,
          "output_type": "execute_result",
          "data": {
            "text/plain": "/kaggle/working/boxPlot_L19.npy",
            "text/html": "<a href='./boxPlot_L19.npy' target='_blank'>./boxPlot_L19.npy</a><br>"
          },
          "metadata": {}
        }
      ]
    },
    {
      "cell_type": "code",
      "source": [
        "resnet50_model.save('resnet50_L{}.h5'.format(landmark_n))\n",
        "from IPython.display import FileLink\n",
        "FileLink(\"./resnet50_L{}.h5\".format(landmark_n))"
      ],
      "metadata": {
        "execution": {
          "iopub.status.busy": "2023-01-02T20:01:05.693087Z",
          "iopub.execute_input": "2023-01-02T20:01:05.693685Z",
          "iopub.status.idle": "2023-01-02T20:01:09.590985Z",
          "shell.execute_reply.started": "2023-01-02T20:01:05.693646Z",
          "shell.execute_reply": "2023-01-02T20:01:09.589917Z"
        },
        "trusted": true,
        "id": "3LaMdezt4q1i",
        "outputId": "b1d87d30-a7b9-4e53-9d78-2eb4c0ac0501"
      },
      "execution_count": null,
      "outputs": [
        {
          "name": "stderr",
          "text": "/opt/conda/lib/python3.7/site-packages/keras/utils/generic_utils.py:497: CustomMaskWarning: Custom mask layers require a config and must override get_config. When loading, the custom mask layer must be passed to the custom_objects argument.\n  category=CustomMaskWarning)\n",
          "output_type": "stream"
        },
        {
          "execution_count": 25,
          "output_type": "execute_result",
          "data": {
            "text/plain": "/kaggle/working/resnet50_L19.h5",
            "text/html": "<a href='./resnet50_L19.h5' target='_blank'>./resnet50_L19.h5</a><br>"
          },
          "metadata": {}
        }
      ]
    },
    {
      "cell_type": "code",
      "source": [
        "boxplots = []\n",
        "for i in range(1,20):\n",
        "    lm=np.load(\"/kaggle/input/boxplots/boxPlot_L{}.npy\".format(i))\n",
        "    boxplots.append(lm)\n",
        "    \n",
        "\n",
        "print(np.asarray(boxplots).shape)\n"
      ],
      "metadata": {
        "execution": {
          "iopub.status.busy": "2023-01-02T23:01:03.518352Z",
          "iopub.execute_input": "2023-01-02T23:01:03.518959Z",
          "iopub.status.idle": "2023-01-02T23:01:03.626464Z",
          "shell.execute_reply.started": "2023-01-02T23:01:03.518923Z",
          "shell.execute_reply": "2023-01-02T23:01:03.625612Z"
        },
        "trusted": true,
        "id": "viiO-0V14q1i",
        "outputId": "9a1bc4af-5a80-4b3d-b547-ab8e58a3fe37"
      },
      "execution_count": null,
      "outputs": [
        {
          "name": "stdout",
          "text": "19\n",
          "output_type": "stream"
        }
      ]
    },
    {
      "cell_type": "code",
      "source": [
        "import seaborn as sns\n",
        "\n",
        "plt.figure(figsize=(10,5)),\n",
        "sns.boxplot(data = boxplots)\n",
        "# plt.xlabel(\"LandMark 10\")\n",
        "plt.ylabel(\"Error (mm)\")\n",
        "plt.title(\"Radial Error for each LandMark across 50 test image (ResNet)\")"
      ],
      "metadata": {
        "execution": {
          "iopub.status.busy": "2023-01-02T23:01:06.969307Z",
          "iopub.execute_input": "2023-01-02T23:01:06.969764Z",
          "iopub.status.idle": "2023-01-02T23:01:07.781076Z",
          "shell.execute_reply.started": "2023-01-02T23:01:06.969723Z",
          "shell.execute_reply": "2023-01-02T23:01:07.780117Z"
        },
        "trusted": true,
        "id": "7MnrbnDj4q1j",
        "outputId": "519b4853-793a-4036-d773-464de4f0650b"
      },
      "execution_count": null,
      "outputs": [
        {
          "execution_count": 5,
          "output_type": "execute_result",
          "data": {
            "text/plain": "Text(0.5, 1.0, 'Radial Error for each LandMark across 50 test image (ResNet)')"
          },
          "metadata": {}
        },
        {
          "output_type": "display_data",
          "data": {
            "text/plain": "<Figure size 720x360 with 1 Axes>",
            "image/png": "[encoded data removed]"
          },
          "metadata": {
            "needs_background": "light"
          }
        }
      ]
    },
    {
      "cell_type": "code",
      "source": [
        "boxplots_arr=np.transpose(boxplots)\n",
        "boxplots_arr.shape"
      ],
      "metadata": {
        "execution": {
          "iopub.status.busy": "2023-01-02T23:01:37.588081Z",
          "iopub.execute_input": "2023-01-02T23:01:37.588440Z",
          "iopub.status.idle": "2023-01-02T23:01:37.595605Z",
          "shell.execute_reply.started": "2023-01-02T23:01:37.588409Z",
          "shell.execute_reply": "2023-01-02T23:01:37.594457Z"
        },
        "trusted": true,
        "id": "MFtjurOA4q1j",
        "outputId": "28d5730e-7551-49c2-956c-34c1f3ad8535"
      },
      "execution_count": null,
      "outputs": [
        {
          "execution_count": 9,
          "output_type": "execute_result",
          "data": {
            "text/plain": "(50, 19)"
          },
          "metadata": {}
        }
      ]
    },
    {
      "cell_type": "code",
      "source": [
        "sdr_under_2 = [sdr(boxplots_arr[:,1],2) for i in range(boxplots_arr.shape[1])]\n",
        "sdr_under_2_5 = [sdr(boxplots_arr[:,i],2.5) for i in range(boxplots_arr.shape[1])]\n",
        "sdr_under_3 = [sdr(boxplots_arr[:,i],3) for i in range(boxplots_arr.shape[1])]\n",
        "sdr_under_3_5 = [sdr(boxplots_arr[:,i],3.5) for i in range(boxplots_arr.shape[1])]\n",
        "sdr_under_4 = [sdr(boxplots_arr[:,i],4) for i in range(boxplots_arr.shape[1])]\n",
        "\n",
        "print(f\"SDR under 2mm = {sdr_under_2}\")\n",
        "print(f\"SDR under 2.5mm = {sdr_under_2_5}\")\n",
        "print(f\"SDR under 3mm = {sdr_under_3}\")\n",
        "print(f\"SDR under 3.5mm = {sdr_under_3_5}\")\n",
        "print(f\"SDR under 4mm = {sdr_under_4}\")"
      ],
      "metadata": {
        "execution": {
          "iopub.status.busy": "2023-01-02T23:01:38.440894Z",
          "iopub.execute_input": "2023-01-02T23:01:38.441240Z",
          "iopub.status.idle": "2023-01-02T23:01:38.449594Z",
          "shell.execute_reply.started": "2023-01-02T23:01:38.441212Z",
          "shell.execute_reply": "2023-01-02T23:01:38.448466Z"
        },
        "trusted": true,
        "id": "g3wlWXO74q1j",
        "outputId": "0105284b-91e7-4cc9-8b59-b89caa6b6dad"
      },
      "execution_count": null,
      "outputs": [
        {
          "name": "stdout",
          "text": "SDR under 2mm = [4.0, 4.0, 4.0, 4.0, 4.0, 4.0, 4.0, 4.0, 4.0, 4.0, 4.0, 4.0, 4.0, 4.0, 4.0, 4.0, 4.0, 4.0, 4.0]\nSDR under 2.5mm = [24.0, 10.0, 0.0, 14.000000000000002, 6.0, 8.0, 12.0, 8.0, 8.0, 10.0, 2.0, 14.000000000000002, 10.0, 4.0, 10.0, 6.0, 10.0, 6.0, 20.0]\nSDR under 3mm = [34.0, 14.000000000000002, 0.0, 24.0, 8.0, 12.0, 16.0, 10.0, 12.0, 10.0, 8.0, 20.0, 12.0, 6.0, 10.0, 8.0, 12.0, 10.0, 26.0]\nSDR under 3.5mm = [40.0, 18.0, 0.0, 32.0, 10.0, 16.0, 16.0, 18.0, 16.0, 12.0, 12.0, 24.0, 14.000000000000002, 8.0, 10.0, 16.0, 20.0, 10.0, 32.0]\nSDR under 4mm = [48.0, 22.0, 2.0, 42.0, 14.000000000000002, 24.0, 20.0, 20.0, 22.0, 12.0, 12.0, 26.0, 16.0, 8.0, 10.0, 24.0, 22.0, 10.0, 36.0]\n",
          "output_type": "stream"
        }
      ]
    },
    {
      "cell_type": "code",
      "source": [
        "landmark = np.arange(1,20)\n",
        "sdr_results = pd.DataFrame({\"LM\":landmark,\n",
        "                        \"2 mm\":sdr_under_2,\n",
        "                        \"2.5 mm\":sdr_under_2_5,\n",
        "                        \"3 mm\":sdr_under_3,\n",
        "                        \"3.5 mm\":sdr_under_3_5,\n",
        "                        \"4 mm\":sdr_under_4})\n",
        "sdr_results.set_index(['LM'])\n"
      ],
      "metadata": {
        "execution": {
          "iopub.status.busy": "2023-01-02T23:05:29.672440Z",
          "iopub.execute_input": "2023-01-02T23:05:29.673153Z",
          "iopub.status.idle": "2023-01-02T23:05:29.699623Z",
          "shell.execute_reply.started": "2023-01-02T23:05:29.673117Z",
          "shell.execute_reply": "2023-01-02T23:05:29.698605Z"
        },
        "trusted": true,
        "id": "jKz85EM_4q1j",
        "outputId": "bc2bc402-ff28-4bcc-b308-340330d36704"
      },
      "execution_count": null,
      "outputs": [
        {
          "execution_count": 21,
          "output_type": "execute_result",
          "data": {
            "text/plain": "    2 mm  2.5 mm  3 mm  3.5 mm  4 mm\nLM                                  \n1    4.0    24.0  34.0    40.0  48.0\n2    4.0    10.0  14.0    18.0  22.0\n3    4.0     0.0   0.0     0.0   2.0\n4    4.0    14.0  24.0    32.0  42.0\n5    4.0     6.0   8.0    10.0  14.0\n6    4.0     8.0  12.0    16.0  24.0\n7    4.0    12.0  16.0    16.0  20.0\n8    4.0     8.0  10.0    18.0  20.0\n9    4.0     8.0  12.0    16.0  22.0\n10   4.0    10.0  10.0    12.0  12.0\n11   4.0     2.0   8.0    12.0  12.0\n12   4.0    14.0  20.0    24.0  26.0\n13   4.0    10.0  12.0    14.0  16.0\n14   4.0     4.0   6.0     8.0   8.0\n15   4.0    10.0  10.0    10.0  10.0\n16   4.0     6.0   8.0    16.0  24.0\n17   4.0    10.0  12.0    20.0  22.0\n18   4.0     6.0  10.0    10.0  10.0\n19   4.0    20.0  26.0    32.0  36.0",
            "text/html": "<div>\n<style scoped>\n    .dataframe tbody tr th:only-of-type {\n        vertical-align: middle;\n    }\n\n    .dataframe tbody tr th {\n        vertical-align: top;\n    }\n\n    .dataframe thead th {\n        text-align: right;\n    }\n</style>\n<table border=\"1\" class=\"dataframe\">\n  <thead>\n    <tr style=\"text-align: right;\">\n      <th></th>\n      <th>2 mm</th>\n      <th>2.5 mm</th>\n      <th>3 mm</th>\n      <th>3.5 mm</th>\n      <th>4 mm</th>\n    </tr>\n    <tr>\n      <th>LM</th>\n      <th></th>\n      <th></th>\n      <th></th>\n      <th></th>\n      <th></th>\n    </tr>\n  </thead>\n  <tbody>\n    <tr>\n      <th>1</th>\n      <td>4.0</td>\n      <td>24.0</td>\n      <td>34.0</td>\n      <td>40.0</td>\n      <td>48.0</td>\n    </tr>\n    <tr>\n      <th>2</th>\n      <td>4.0</td>\n      <td>10.0</td>\n      <td>14.0</td>\n      <td>18.0</td>\n      <td>22.0</td>\n    </tr>\n    <tr>\n      <th>3</th>\n      <td>4.0</td>\n      <td>0.0</td>\n      <td>0.0</td>\n      <td>0.0</td>\n      <td>2.0</td>\n    </tr>\n    <tr>\n      <th>4</th>\n      <td>4.0</td>\n      <td>14.0</td>\n      <td>24.0</td>\n      <td>32.0</td>\n      <td>42.0</td>\n    </tr>\n    <tr>\n      <th>5</th>\n      <td>4.0</td>\n      <td>6.0</td>\n      <td>8.0</td>\n      <td>10.0</td>\n      <td>14.0</td>\n    </tr>\n    <tr>\n      <th>6</th>\n      <td>4.0</td>\n      <td>8.0</td>\n      <td>12.0</td>\n      <td>16.0</td>\n      <td>24.0</td>\n    </tr>\n    <tr>\n      <th>7</th>\n      <td>4.0</td>\n      <td>12.0</td>\n      <td>16.0</td>\n      <td>16.0</td>\n      <td>20.0</td>\n    </tr>\n    <tr>\n      <th>8</th>\n      <td>4.0</td>\n      <td>8.0</td>\n      <td>10.0</td>\n      <td>18.0</td>\n      <td>20.0</td>\n    </tr>\n    <tr>\n      <th>9</th>\n      <td>4.0</td>\n      <td>8.0</td>\n      <td>12.0</td>\n      <td>16.0</td>\n      <td>22.0</td>\n    </tr>\n    <tr>\n      <th>10</th>\n      <td>4.0</td>\n      <td>10.0</td>\n      <td>10.0</td>\n      <td>12.0</td>\n      <td>12.0</td>\n    </tr>\n    <tr>\n      <th>11</th>\n      <td>4.0</td>\n      <td>2.0</td>\n      <td>8.0</td>\n      <td>12.0</td>\n      <td>12.0</td>\n    </tr>\n    <tr>\n      <th>12</th>\n      <td>4.0</td>\n      <td>14.0</td>\n      <td>20.0</td>\n      <td>24.0</td>\n      <td>26.0</td>\n    </tr>\n    <tr>\n      <th>13</th>\n      <td>4.0</td>\n      <td>10.0</td>\n      <td>12.0</td>\n      <td>14.0</td>\n      <td>16.0</td>\n    </tr>\n    <tr>\n      <th>14</th>\n      <td>4.0</td>\n      <td>4.0</td>\n      <td>6.0</td>\n      <td>8.0</td>\n      <td>8.0</td>\n    </tr>\n    <tr>\n      <th>15</th>\n      <td>4.0</td>\n      <td>10.0</td>\n      <td>10.0</td>\n      <td>10.0</td>\n      <td>10.0</td>\n    </tr>\n    <tr>\n      <th>16</th>\n      <td>4.0</td>\n      <td>6.0</td>\n      <td>8.0</td>\n      <td>16.0</td>\n      <td>24.0</td>\n    </tr>\n    <tr>\n      <th>17</th>\n      <td>4.0</td>\n      <td>10.0</td>\n      <td>12.0</td>\n      <td>20.0</td>\n      <td>22.0</td>\n    </tr>\n    <tr>\n      <th>18</th>\n      <td>4.0</td>\n      <td>6.0</td>\n      <td>10.0</td>\n      <td>10.0</td>\n      <td>10.0</td>\n    </tr>\n    <tr>\n      <th>19</th>\n      <td>4.0</td>\n      <td>20.0</td>\n      <td>26.0</td>\n      <td>32.0</td>\n      <td>36.0</td>\n    </tr>\n  </tbody>\n</table>\n</div>"
          },
          "metadata": {}
        }
      ]
    },
    {
      "cell_type": "code",
      "source": [],
      "metadata": {
        "id": "t74ODCQ64q1k"
      },
      "execution_count": null,
      "outputs": []
    }
  ]
}